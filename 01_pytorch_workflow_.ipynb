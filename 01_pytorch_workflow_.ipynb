{
  "nbformat": 4,
  "nbformat_minor": 0,
  "metadata": {
    "colab": {
      "provenance": [],
      "toc_visible": true,
      "authorship_tag": "ABX9TyOLasNxYIpXq8nVZ+45Eclh",
      "include_colab_link": true
    },
    "kernelspec": {
      "name": "python3",
      "display_name": "Python 3"
    },
    "language_info": {
      "name": "python"
    },
    "accelerator": "GPU",
    "gpuClass": "standard"
  },
  "cells": [
    {
      "cell_type": "markdown",
      "metadata": {
        "id": "view-in-github",
        "colab_type": "text"
      },
      "source": [
        "<a href=\"https://colab.research.google.com/github/maronem/PyTorch/blob/main/01_pytorch_workflow_.ipynb\" target=\"_parent\"><img src=\"https://colab.research.google.com/assets/colab-badge.svg\" alt=\"Open In Colab\"/></a>"
      ]
    },
    {
      "cell_type": "markdown",
      "source": [
        "# PyTorch Workflow\n",
        "\n",
        "Let's explore an example PyTorch end-to-end workflow\n",
        "\n",
        "Resources:\n",
        "* Book version of notebook: https://www.learnpytorch.io/01_pytorch_workflow/"
      ],
      "metadata": {
        "id": "EabV80vPBGQK"
      }
    },
    {
      "cell_type": "code",
      "source": [
        "what_were_covering = {1: \"data (prepare and load)\",\n",
        "                      2: \"build model\",\n",
        "                      3: \"fitting the model to the data (training)\",\n",
        "                      4: \"making predictions and evaluate a model (inference)\",\n",
        "                      5: \"save and loading a model\",\n",
        "                      6: \"putting it all together\"}\n",
        "\n",
        "what_were_covering"
      ],
      "metadata": {
        "colab": {
          "base_uri": "https://localhost:8080/"
        },
        "id": "TFNbqKkQCJTM",
        "outputId": "027a32a0-2747-4db4-aa38-6331f7480b5b"
      },
      "execution_count": 28,
      "outputs": [
        {
          "output_type": "execute_result",
          "data": {
            "text/plain": [
              "{1: 'data (prepare and load)',\n",
              " 2: 'build model',\n",
              " 3: 'fitting the model to the data (training)',\n",
              " 4: 'making predictions and evaluate a model (inference)',\n",
              " 5: 'save and loading a model',\n",
              " 6: 'putting it all together'}"
            ]
          },
          "metadata": {},
          "execution_count": 28
        }
      ]
    },
    {
      "cell_type": "code",
      "source": [
        "import torch\n",
        "from torch import nn # nn contains all of PyTorch's building blocks for neural networks\n",
        "import matplotlib.pyplot as plt\n",
        "\n",
        "#Check PyTorch version\n",
        "torch.__version__"
      ],
      "metadata": {
        "colab": {
          "base_uri": "https://localhost:8080/",
          "height": 35
        },
        "id": "09Y8OKeNC07f",
        "outputId": "b12543f7-4d46-40e0-b3fe-dadd2a55c855"
      },
      "execution_count": 29,
      "outputs": [
        {
          "output_type": "execute_result",
          "data": {
            "text/plain": [
              "'1.13.1+cu116'"
            ],
            "application/vnd.google.colaboratory.intrinsic+json": {
              "type": "string"
            }
          },
          "metadata": {},
          "execution_count": 29
        }
      ]
    },
    {
      "cell_type": "markdown",
      "source": [
        "## 1. Data (preparing and loading)\n",
        "\n",
        "Machine learning is a game of two parts:\n",
        "1. Get data into a numerical representation\n",
        "2. Build a model to learn patterns in that numerical representation\n",
        "\n",
        "Lets create some *known* data using the linear regression formula \n",
        "\n",
        "We'll use a linear regression formula to make a straight line with *known* **parameters**"
      ],
      "metadata": {
        "id": "093A_K70DTtJ"
      }
    },
    {
      "cell_type": "code",
      "source": [
        "# Create *known* parameters\n",
        "\n",
        "weight = 0.7 \n",
        "bias = 0.3\n",
        "\n",
        "# Create some data\n",
        "\n",
        "start = 0\n",
        "end = 1\n",
        "step = 0.02\n",
        "\n",
        "X = torch.arange(start, end, step=step).unsqueeze(dim=1)\n",
        "y = weight * X + bias\n",
        "\n",
        "X[:10], y[:10]\n"
      ],
      "metadata": {
        "colab": {
          "base_uri": "https://localhost:8080/"
        },
        "id": "tQaecHTPDgQi",
        "outputId": "4262829d-fafb-4120-8439-2eff5f0912dd"
      },
      "execution_count": 30,
      "outputs": [
        {
          "output_type": "execute_result",
          "data": {
            "text/plain": [
              "(tensor([[0.0000],\n",
              "         [0.0200],\n",
              "         [0.0400],\n",
              "         [0.0600],\n",
              "         [0.0800],\n",
              "         [0.1000],\n",
              "         [0.1200],\n",
              "         [0.1400],\n",
              "         [0.1600],\n",
              "         [0.1800]]), tensor([[0.3000],\n",
              "         [0.3140],\n",
              "         [0.3280],\n",
              "         [0.3420],\n",
              "         [0.3560],\n",
              "         [0.3700],\n",
              "         [0.3840],\n",
              "         [0.3980],\n",
              "         [0.4120],\n",
              "         [0.4260]]))"
            ]
          },
          "metadata": {},
          "execution_count": 30
        }
      ]
    },
    {
      "cell_type": "code",
      "source": [
        "plt.scatter(X,y)\n",
        "plt.ylabel(\"y-values\")\n",
        "plt.xlabel(\"X-values\")\n",
        "plt.title(\"Linear Regression Data\")"
      ],
      "metadata": {
        "colab": {
          "base_uri": "https://localhost:8080/",
          "height": 312
        },
        "id": "DinBB8C98RqU",
        "outputId": "078357ec-1e89-4a3e-9934-b109fc04c115"
      },
      "execution_count": 31,
      "outputs": [
        {
          "output_type": "execute_result",
          "data": {
            "text/plain": [
              "Text(0.5, 1.0, 'Linear Regression Data')"
            ]
          },
          "metadata": {},
          "execution_count": 31
        },
        {
          "output_type": "display_data",
          "data": {
            "text/plain": [
              "<Figure size 432x288 with 1 Axes>"
            ],
            "image/png": "[encoded data removed]"
          },
          "metadata": {
            "needs_background": "light"
          }
        }
      ]
    },
    {
      "cell_type": "code",
      "source": [
        "len(X), len(y)"
      ],
      "metadata": {
        "colab": {
          "base_uri": "https://localhost:8080/"
        },
        "id": "r4c-f0XL9tuA",
        "outputId": "a6f2ac07-fcdb-491b-8fab-64393c9c7eee"
      },
      "execution_count": 32,
      "outputs": [
        {
          "output_type": "execute_result",
          "data": {
            "text/plain": [
              "(50, 50)"
            ]
          },
          "metadata": {},
          "execution_count": 32
        }
      ]
    },
    {
      "cell_type": "markdown",
      "source": [
        "### Splitting data into training and test sets (one of the most important concepts in ML)\n",
        "\n",
        "Let's create training and test set with our data"
      ],
      "metadata": {
        "id": "sn6dQQ347nN_"
      }
    },
    {
      "cell_type": "code",
      "source": [
        "# Create a train/test split\n",
        "\n",
        "train_split = int(0.8 * len(X)) #80% train data\n",
        "X_train, y_train = X[:train_split], y[:train_split]\n",
        "X_test, y_test = X[train_split:], y[train_split:]\n",
        "\n",
        "len(X_train), len(y_train), len(X_test), len(y_test)"
      ],
      "metadata": {
        "colab": {
          "base_uri": "https://localhost:8080/"
        },
        "id": "_mj3yrub9HCJ",
        "outputId": "eabb00b3-46f3-42c7-c33f-3aa530271b6f"
      },
      "execution_count": 33,
      "outputs": [
        {
          "output_type": "execute_result",
          "data": {
            "text/plain": [
              "(40, 40, 10, 10)"
            ]
          },
          "metadata": {},
          "execution_count": 33
        }
      ]
    },
    {
      "cell_type": "markdown",
      "source": [
        "\"Visualize, visualize, visualize\""
      ],
      "metadata": {
        "id": "5zZB9KVk-3Ly"
      }
    },
    {
      "cell_type": "code",
      "source": [
        "# Visualize X_train, y_train\n",
        "\n",
        "def plot_predictions(train_data=X_train,\n",
        "                     train_labels=y_train,\n",
        "                     test_data=X_test,\n",
        "                     test_labels=y_test,\n",
        "                     predictions=None):\n",
        "  \"\"\"\n",
        "  Plots training data, test data, and compares predictions\n",
        "  \"\"\"\n",
        "\n",
        "  # Plot training data in blue\n",
        "  plt.scatter(train_data, train_labels, c=\"b\", s=4, label=\"Training Data\")\n",
        "\n",
        "  # Plot test data in red\n",
        "  plt.scatter(test_data, test_labels, c=\"g\",s=4, label=\"Testing Data\")\n",
        "\n",
        "  # Are there predictions?\n",
        "  if predictions is not None:\n",
        "    # Plot predictions in green (if they exist)\n",
        "    plt.scatter(test_data, predictions, c=\"r\", s=4, label=\"Predictions\")\n",
        "\n",
        "  #Show legend\n",
        "  plt.legend(prop={\"size\": 10});"
      ],
      "metadata": {
        "id": "XhYaQneK92mm"
      },
      "execution_count": 34,
      "outputs": []
    },
    {
      "cell_type": "code",
      "source": [
        "plot_predictions()"
      ],
      "metadata": {
        "colab": {
          "base_uri": "https://localhost:8080/",
          "height": 265
        },
        "id": "y836LKyu-kUI",
        "outputId": "42d1de4d-118f-43ba-bd0c-e86dabbcd5de"
      },
      "execution_count": 35,
      "outputs": [
        {
          "output_type": "display_data",
          "data": {
            "text/plain": [
              "<Figure size 432x288 with 1 Axes>"
            ],
            "image/png": "[encoded data removed]"
          },
          "metadata": {
            "needs_background": "light"
          }
        }
      ]
    },
    {
      "cell_type": "markdown",
      "source": [
        "## 2. Build model\n",
        "\n",
        "Our first PyTorch model!\n",
        "\n",
        "Linear regression model: Y = m * X + b\n",
        "\n",
        "We will be building classes throughout the course, get familiar with OOP in Python: \n",
        "\n",
        "https://realpython.com/python3-object-oriented-programming/\n",
        "\n",
        "\n",
        "ex) `class Dog: -(Class) - each Dog within the class is an Object` \n",
        "\n",
        "    species = \"Canis familiaris\" -(class attribute)\n",
        "    def __init__(self, name, age): \n",
        "        self.name = name -(instance attribute)\n",
        "        self.age = age` -(instance attribute)\n",
        "\n",
        "* .__init__() sets the initial state of the object by assigning the values of the object’s properties\n",
        "* You can give .__init__() any number of parameters, but the first parameter will always be a variable called self\n",
        "* Attributes created in .__init__() are called **instance attributes** - all Dog objects will have name & age but values for *name* and *age* will vary depending on the Dog instance\n",
        "\n",
        "**What our model does:**\n",
        "* Star with random values (weight & bias)\n",
        "* Look at training data and adjust random values to better represent (or get closer to) the ideal values (weight & bias we used to create the data)\n",
        "\n",
        "How does it do so?\n",
        "\n",
        "Through two main algorithms:\n",
        "1. Gradient descent:\n",
        "  * an iterative first-order optimisation algorithm used to find a local min/max of a given function to minimise a cost/loss function \n",
        "2. Backpropagation:\n",
        "  * backpropagation computes the gradient of the loss function with respect to the weights of the network for a single input–output example"
      ],
      "metadata": {
        "id": "xQczzRUEA1fW"
      }
    },
    {
      "cell_type": "code",
      "source": [
        "from torch import nn\n",
        "\n",
        "# Create linear regression model\n",
        "class LinearRegressionModel(nn.Module): #almost everything in PyTorch inherets from nn.module subclass\n",
        "  def __init__(self):\n",
        "    super().__init__()\n",
        "\n",
        "    # Initialize the model parameters to be used in compuations\n",
        "    self.weights = nn.Parameter(torch.randn(1, #nn.Parameter stores tensors that can be used with nn.Module\n",
        "                                            requires_grad=True, #used for updating model parameters via gradient descent\n",
        "                                            dtype=torch.float))\n",
        "    self.bias = nn.Parameter(torch.randn(1,\n",
        "                                        requires_grad=True,\n",
        "                                        dtype=torch.float))\n",
        "    \n",
        "  # forward() defines the compuation in the model and is required when calling nn.Module subclass\n",
        "  # this defines the compuation that takes place on the data passed to the particular nn.Module\n",
        "  def forward(self, x: torch.Tensor) -> torch.Tensor: # <- \"x\" is the input data \n",
        "    return self.weights * x + self.bias #this is the linear regression formula"
      ],
      "metadata": {
        "id": "raIiSowSAGAm"
      },
      "execution_count": 36,
      "outputs": []
    },
    {
      "cell_type": "markdown",
      "source": [
        "### PyTorch model building essentials\n",
        "\n",
        "* `torch.nn` - contains all of the building blocks for computational graphs (neural network can be considered a computational graph)\n",
        "* `torch.nn.Parameter` - what paramaters should our model try and learn (often a PyTorch layer from torch.nn will set these for us)\n",
        "* `torch.nn.Module` - base class for all neural network modules; if you subclass it, you should overwrite forward()\n",
        "* `torch.optim` - this is where the optimizers in PyTorch live, it will help with gradient descent and optimize the weights and biases\n",
        "* `def forward()` - all nn.Module sublcasses require you to overwrite forward(), this method defines what happens in the forward computation\n"
      ],
      "metadata": {
        "id": "iVX1f9NROSOL"
      }
    },
    {
      "cell_type": "markdown",
      "source": [
        "### Checking the content of our PyTorch model\n",
        "\n",
        "Now we've created a model, let's see whats inside...\n",
        "\n",
        "We can check out our model parameters or what's inside by using `.parameters()`"
      ],
      "metadata": {
        "id": "NzHGyF_kHbs3"
      }
    },
    {
      "cell_type": "code",
      "source": [
        "# Create a random seed\n",
        "torch.manual_seed(42)\n",
        "\n",
        "# Create an instance of our model (this is a subclass of nn.module)\n",
        "model_0 = LinearRegressionModel()\n",
        "model_0\n",
        "\n",
        "# Check model parameters - parameter values are what they are because they are random! Setting manual seed keeps them consistent every run\n",
        "list(model_0.parameters())"
      ],
      "metadata": {
        "colab": {
          "base_uri": "https://localhost:8080/"
        },
        "id": "bwZQTH2SrU6I",
        "outputId": "1f36f38e-bc05-4df5-df63-11b4d2638d10"
      },
      "execution_count": 37,
      "outputs": [
        {
          "output_type": "execute_result",
          "data": {
            "text/plain": [
              "[Parameter containing:\n",
              " tensor([0.3367], requires_grad=True), Parameter containing:\n",
              " tensor([0.1288], requires_grad=True)]"
            ]
          },
          "metadata": {},
          "execution_count": 37
        }
      ]
    },
    {
      "cell_type": "markdown",
      "source": [
        "Purpose of our NN is to adjust the weights and bias parameters to be as close to our defined weight and bias as possible to best predict our data"
      ],
      "metadata": {
        "id": "qgUc6xMVs5mn"
      }
    },
    {
      "cell_type": "code",
      "source": [
        "# List named parameters\n",
        "model_0.state_dict()"
      ],
      "metadata": {
        "colab": {
          "base_uri": "https://localhost:8080/"
        },
        "id": "RtCceQMartWW",
        "outputId": "51beced5-3abc-4aa9-91b7-fa350cacbbc4"
      },
      "execution_count": 38,
      "outputs": [
        {
          "output_type": "execute_result",
          "data": {
            "text/plain": [
              "OrderedDict([('weights', tensor([0.3367])), ('bias', tensor([0.1288]))])"
            ]
          },
          "metadata": {},
          "execution_count": 38
        }
      ]
    },
    {
      "cell_type": "code",
      "source": [
        "# defined weight and bias\n",
        "weight, bias"
      ],
      "metadata": {
        "colab": {
          "base_uri": "https://localhost:8080/"
        },
        "id": "wl6ZO343sHZV",
        "outputId": "023d7697-6b3e-4a8e-c828-a9f8123ac0b5"
      },
      "execution_count": 39,
      "outputs": [
        {
          "output_type": "execute_result",
          "data": {
            "text/plain": [
              "(0.7, 0.3)"
            ]
          },
          "metadata": {},
          "execution_count": 39
        }
      ]
    },
    {
      "cell_type": "markdown",
      "source": [
        "### Making predictions using `torch.inference_mode()`\n",
        "\n",
        "To check our model's predictive power, let's see how well it predicts `y_test` based on `X_test`\n",
        "\n",
        "When we pass data through our model, it's going to run it through the `forward()` method"
      ],
      "metadata": {
        "id": "EQwcAoMTs2Ho"
      }
    },
    {
      "cell_type": "code",
      "source": [
        "X_test, y_test"
      ],
      "metadata": {
        "colab": {
          "base_uri": "https://localhost:8080/"
        },
        "id": "gsec01d7t9N6",
        "outputId": "e5024c41-44c8-49be-cd60-939d29baa533"
      },
      "execution_count": 40,
      "outputs": [
        {
          "output_type": "execute_result",
          "data": {
            "text/plain": [
              "(tensor([[0.8000],\n",
              "         [0.8200],\n",
              "         [0.8400],\n",
              "         [0.8600],\n",
              "         [0.8800],\n",
              "         [0.9000],\n",
              "         [0.9200],\n",
              "         [0.9400],\n",
              "         [0.9600],\n",
              "         [0.9800]]), tensor([[0.8600],\n",
              "         [0.8740],\n",
              "         [0.8880],\n",
              "         [0.9020],\n",
              "         [0.9160],\n",
              "         [0.9300],\n",
              "         [0.9440],\n",
              "         [0.9580],\n",
              "         [0.9720],\n",
              "         [0.9860]]))"
            ]
          },
          "metadata": {},
          "execution_count": 40
        }
      ]
    },
    {
      "cell_type": "code",
      "source": [
        "# Make predictions with model\n",
        "with torch.inference_mode(): # context manager `inference_mode` disables gradient tracking - reduces computing time \n",
        "  y_preds = model_0(X_test)\n",
        "\n",
        "y_preds"
      ],
      "metadata": {
        "colab": {
          "base_uri": "https://localhost:8080/"
        },
        "id": "8rMaWie0tomW",
        "outputId": "fe47bf2a-2044-4cfb-8d32-f9309d21b94f"
      },
      "execution_count": 41,
      "outputs": [
        {
          "output_type": "execute_result",
          "data": {
            "text/plain": [
              "tensor([[0.3982],\n",
              "        [0.4049],\n",
              "        [0.4116],\n",
              "        [0.4184],\n",
              "        [0.4251],\n",
              "        [0.4318],\n",
              "        [0.4386],\n",
              "        [0.4453],\n",
              "        [0.4520],\n",
              "        [0.4588]])"
            ]
          },
          "metadata": {},
          "execution_count": 41
        }
      ]
    },
    {
      "cell_type": "markdown",
      "source": [
        "See more on `inference_mode()`: here https://twitter.com/PyTorch/status/1437838231505096708?s=20&t=UIAwRE5XeXTY-7e8P5tSZw\n",
        " * Can also use `torch.no_grad()`, but doesnt do as much as inference_mode and is preffered"
      ],
      "metadata": {
        "id": "XB08Bo3M_Uyw"
      }
    },
    {
      "cell_type": "code",
      "source": [
        "print(list(y_test))\n",
        "print(list(y_preds))"
      ],
      "metadata": {
        "colab": {
          "base_uri": "https://localhost:8080/"
        },
        "id": "G8NFW1gAuE51",
        "outputId": "b32c3dba-e941-4282-8b3c-4ac8d75f852c"
      },
      "execution_count": 42,
      "outputs": [
        {
          "output_type": "stream",
          "name": "stdout",
          "text": [
            "[tensor([0.8600]), tensor([0.8740]), tensor([0.8880]), tensor([0.9020]), tensor([0.9160]), tensor([0.9300]), tensor([0.9440]), tensor([0.9580]), tensor([0.9720]), tensor([0.9860])]\n",
            "[tensor([0.3982]), tensor([0.4049]), tensor([0.4116]), tensor([0.4184]), tensor([0.4251]), tensor([0.4318]), tensor([0.4386]), tensor([0.4453]), tensor([0.4520]), tensor([0.4588])]\n"
          ]
        }
      ]
    },
    {
      "cell_type": "code",
      "source": [
        "plot_predictions(predictions=y_preds)"
      ],
      "metadata": {
        "colab": {
          "base_uri": "https://localhost:8080/",
          "height": 265
        },
        "id": "kNL3VzzLuoz4",
        "outputId": "8e9fc61b-bd6a-494d-c7bd-d7c032b0b4a5"
      },
      "execution_count": 43,
      "outputs": [
        {
          "output_type": "display_data",
          "data": {
            "text/plain": [
              "<Figure size 432x288 with 1 Axes>"
            ],
            "image/png": "[encoded data removed]"
          },
          "metadata": {
            "needs_background": "light"
          }
        }
      ]
    },
    {
      "cell_type": "markdown",
      "source": [
        "## 3. Train model\n",
        "\n",
        "The whole idea of training is for a model to move from some unknown parameters (these may be random) to some known parameters.\n",
        "\n",
        "Or in other words, from poor representation to a better representation of the data.\n",
        "\n",
        "To measure how \"poor\" or \"wrong\" your model's predictions are is to use a **loss function**\n",
        "\n",
        "* Note: Loss function may also be called COST FUNCTION or CRITERION, we are going to refer to it as a loss function\n",
        "\n",
        "Things we need to train:\n",
        "\n",
        "* **Loss function:** a function to measure how wrong your model's predictions are to the ideal outputs, lower=better \n",
        "* **Optimizer:** takes into account the **loss** of a model and adjusts the model's parameters (e.g. weight & bias) to improve the loss function.\n",
        "  * Larger learning rate = larger adjustment of parameter\n",
        "  * Lower learning rate = smaller adjustment of parameter\n",
        "\n",
        "And specifically for PyTorch, we need:\n",
        "* A training loop\n",
        "* A testing loop\n"
      ],
      "metadata": {
        "id": "N3QXuM8LuuO5"
      }
    },
    {
      "cell_type": "code",
      "source": [
        "# Check out our model's parameters (a value that the model sets itself)\n",
        "model_0.state_dict()"
      ],
      "metadata": {
        "colab": {
          "base_uri": "https://localhost:8080/"
        },
        "id": "mdpF_EWXAOaq",
        "outputId": "92bbcda6-4f72-4d96-c2f1-475ba99127d5"
      },
      "execution_count": 44,
      "outputs": [
        {
          "output_type": "execute_result",
          "data": {
            "text/plain": [
              "OrderedDict([('weights', tensor([0.3367])), ('bias', tensor([0.1288]))])"
            ]
          },
          "metadata": {},
          "execution_count": 44
        }
      ]
    },
    {
      "cell_type": "code",
      "source": [
        "# Setup a loss function\n",
        "loss_fn = nn.L1Loss()\n",
        "\n",
        "# Setup an optimizer (stochastic gradient descent)\n",
        "  # Learning rate value will adjust parameters to the same power\n",
        "optimizer = torch.optim.SGD(model_0.parameters(),\n",
        "                            lr=0.01) # lr = learning rate = possibly most important hyperparameter you can set"
      ],
      "metadata": {
        "id": "XuYeP1x7BMuc"
      },
      "execution_count": 45,
      "outputs": []
    },
    {
      "cell_type": "code",
      "source": [
        "loss_fn"
      ],
      "metadata": {
        "colab": {
          "base_uri": "https://localhost:8080/"
        },
        "id": "X4tibxW5CioB",
        "outputId": "6418d9f0-fb19-49f6-97ca-3ca49a583350"
      },
      "execution_count": 46,
      "outputs": [
        {
          "output_type": "execute_result",
          "data": {
            "text/plain": [
              "L1Loss()"
            ]
          },
          "metadata": {},
          "execution_count": 46
        }
      ]
    },
    {
      "cell_type": "markdown",
      "source": [
        "**Q:** Which loss function should I use? \n",
        "\n",
        "**A:** For our case, linear regression, can use a an `L1Loss()` loss function (MAE) and an optimizer of `optim.SGD()` will suffice\n",
        "\n",
        "But for a classification problem, you'll likely use `nn.BCELoss()` (binary cross-entropy)"
      ],
      "metadata": {
        "id": "9w60BHpkOulU"
      }
    },
    {
      "cell_type": "markdown",
      "source": [
        "### Building a training and testing loop in PyTorch\n",
        "\n",
        "A couple of things we need in a training loop:\n",
        "0. Loop through the data and do...\n",
        "1. Forward pass (this invovles data moving through our model's forward() function(s)) to make predictions on data - also called forward propagation\n",
        "2. Calculate the loss (compare forward pass predictions to ground truth labels)\n",
        "3. Opimizer zero grad\n",
        "4. Loss backward - move backwards through netwrok to calculare the gradient of each of the parameters of our model with respect to the loss (**back propagation**)\n",
        "5. Optimizer step - use the optimizer to adjust our model's parameters to try and imporve the loss (**gradient descent**)\n"
      ],
      "metadata": {
        "id": "CY9h77BaDouM"
      }
    },
    {
      "cell_type": "code",
      "source": [
        "torch.manual_seed(42)\n",
        "\n",
        "# An epoch is one loop through the data... (this is a hyperparameter bc we set it ourselves)\n",
        "epochs = 200\n",
        "\n",
        "# Track different values to be able to compare this exp to future experiments\n",
        "epoch_count = []\n",
        "loss_values = []\n",
        "test_loss_values = []\n",
        "\n",
        "### Training \n",
        "# 0. Loop through the data for a number of epochs\n",
        "for epoch in range(epochs):\n",
        "  # Set the model to training mode:\n",
        "  model_0.train() #train mode in PyTorch sets all parameters that require gradients to require gradients\n",
        "\n",
        "  # 1. Forward pass - run training data through the forward() method in our model\n",
        "  y_pred = model_0(X_train)\n",
        "\n",
        "  # 2. Calculate the loss between the predictions from training set and the ideal values\n",
        "  loss = loss_fn(y_pred, y_train) # Our loss function is L1Loss() and calcs MAE\n",
        "\n",
        "  # 3. Set optimizer to zero_grad\n",
        "  optimizer.zero_grad() # resets the optimizer for backprop following each epoch, otherwise gradient will accumulate\n",
        "\n",
        "  # 4. Perform backpropagation on the loss with respect to the parameters of the model\n",
        "  loss.backward()\n",
        "\n",
        "  # 5. Step the optimizer (perform gradient descent)\n",
        "  optimizer.step() # by default how the optimizer changes the gradient will **accumulate** through the loop so... we ahve to zero them above in step 3 for the next iter of loop\n",
        "\n",
        "  ### Testing\n",
        "  model_0.eval() #turns off settings in model not needed for eval/testing (dropout/batch norm layers)\n",
        "  with torch.inference_mode(): # turns off gradient tracking & other things behind the scenes to speed up computing\n",
        "  #with torch.no_grad(): # you may also see torch.no_grad in older PyTorch code\n",
        "    #1. Do the forward pass\n",
        "    test_pred = model_0(X_test)\n",
        "\n",
        "    #2. Calculate test loss\n",
        "    test_loss = loss_fn(test_pred, y_test)\n",
        "\n",
        "  # Print whats happening\n",
        "  if epoch % 10 == 0:\n",
        "    epoch_count.append(epoch)\n",
        "    loss_values.append(loss)\n",
        "    test_loss_values.append(test_loss)\n",
        "    print(f\"Epoch: {epoch} | Loss: {loss} | Test Loss: {test_loss}\")\n",
        "\n",
        "    # Print out model state_dict()\n",
        "    print(model_0.state_dict())"
      ],
      "metadata": {
        "colab": {
          "base_uri": "https://localhost:8080/"
        },
        "id": "Dv-OfH8APTcZ",
        "outputId": "c2c86069-eaef-4d12-83b9-22def91e291e"
      },
      "execution_count": 47,
      "outputs": [
        {
          "output_type": "stream",
          "name": "stdout",
          "text": [
            "Epoch: 0 | Loss: 0.31288138031959534 | Test Loss: 0.48106518387794495\n",
            "OrderedDict([('weights', tensor([0.3406])), ('bias', tensor([0.1388]))])\n",
            "Epoch: 10 | Loss: 0.1976713240146637 | Test Loss: 0.3463551998138428\n",
            "OrderedDict([('weights', tensor([0.3796])), ('bias', tensor([0.2388]))])\n",
            "Epoch: 20 | Loss: 0.08908725529909134 | Test Loss: 0.21729660034179688\n",
            "OrderedDict([('weights', tensor([0.4184])), ('bias', tensor([0.3333]))])\n",
            "Epoch: 30 | Loss: 0.053148526698350906 | Test Loss: 0.14464017748832703\n",
            "OrderedDict([('weights', tensor([0.4512])), ('bias', tensor([0.3768]))])\n",
            "Epoch: 40 | Loss: 0.04543796554207802 | Test Loss: 0.11360953003168106\n",
            "OrderedDict([('weights', tensor([0.4748])), ('bias', tensor([0.3868]))])\n",
            "Epoch: 50 | Loss: 0.04167863354086876 | Test Loss: 0.09919948130846024\n",
            "OrderedDict([('weights', tensor([0.4938])), ('bias', tensor([0.3843]))])\n",
            "Epoch: 60 | Loss: 0.03818932920694351 | Test Loss: 0.08886633068323135\n",
            "OrderedDict([('weights', tensor([0.5116])), ('bias', tensor([0.3788]))])\n",
            "Epoch: 70 | Loss: 0.03476089984178543 | Test Loss: 0.0805937647819519\n",
            "OrderedDict([('weights', tensor([0.5288])), ('bias', tensor([0.3718]))])\n",
            "Epoch: 80 | Loss: 0.03132382780313492 | Test Loss: 0.07232122868299484\n",
            "OrderedDict([('weights', tensor([0.5459])), ('bias', tensor([0.3648]))])\n",
            "Epoch: 90 | Loss: 0.02788739837706089 | Test Loss: 0.06473556160926819\n",
            "OrderedDict([('weights', tensor([0.5629])), ('bias', tensor([0.3573]))])\n",
            "Epoch: 100 | Loss: 0.024458957836031914 | Test Loss: 0.05646304413676262\n",
            "OrderedDict([('weights', tensor([0.5800])), ('bias', tensor([0.3503]))])\n",
            "Epoch: 110 | Loss: 0.021020207554101944 | Test Loss: 0.04819049686193466\n",
            "OrderedDict([('weights', tensor([0.5972])), ('bias', tensor([0.3433]))])\n",
            "Epoch: 120 | Loss: 0.01758546568453312 | Test Loss: 0.04060482233762741\n",
            "OrderedDict([('weights', tensor([0.6141])), ('bias', tensor([0.3358]))])\n",
            "Epoch: 130 | Loss: 0.014155393466353416 | Test Loss: 0.03233227878808975\n",
            "OrderedDict([('weights', tensor([0.6313])), ('bias', tensor([0.3288]))])\n",
            "Epoch: 140 | Loss: 0.010716589167714119 | Test Loss: 0.024059748277068138\n",
            "OrderedDict([('weights', tensor([0.6485])), ('bias', tensor([0.3218]))])\n",
            "Epoch: 150 | Loss: 0.0072835334576666355 | Test Loss: 0.016474086791276932\n",
            "OrderedDict([('weights', tensor([0.6654])), ('bias', tensor([0.3143]))])\n",
            "Epoch: 160 | Loss: 0.0038517764769494534 | Test Loss: 0.008201557211577892\n",
            "OrderedDict([('weights', tensor([0.6826])), ('bias', tensor([0.3073]))])\n",
            "Epoch: 170 | Loss: 0.008932482451200485 | Test Loss: 0.005023092031478882\n",
            "OrderedDict([('weights', tensor([0.6951])), ('bias', tensor([0.2993]))])\n",
            "Epoch: 180 | Loss: 0.008932482451200485 | Test Loss: 0.005023092031478882\n",
            "OrderedDict([('weights', tensor([0.6951])), ('bias', tensor([0.2993]))])\n",
            "Epoch: 190 | Loss: 0.008932482451200485 | Test Loss: 0.005023092031478882\n",
            "OrderedDict([('weights', tensor([0.6951])), ('bias', tensor([0.2993]))])\n"
          ]
        }
      ]
    },
    {
      "cell_type": "code",
      "source": [
        "import numpy as np\n",
        "\n",
        "np.array(torch.tensor(loss_values).cpu().numpy())"
      ],
      "metadata": {
        "colab": {
          "base_uri": "https://localhost:8080/"
        },
        "id": "DmcuQM7m-FDg",
        "outputId": "5435ac31-22a8-4ddc-e2ce-dc6951455db6"
      },
      "execution_count": 48,
      "outputs": [
        {
          "output_type": "execute_result",
          "data": {
            "text/plain": [
              "array([0.31288138, 0.19767132, 0.08908726, 0.05314853, 0.04543797,\n",
              "       0.04167863, 0.03818933, 0.0347609 , 0.03132383, 0.0278874 ,\n",
              "       0.02445896, 0.02102021, 0.01758547, 0.01415539, 0.01071659,\n",
              "       0.00728353, 0.00385178, 0.00893248, 0.00893248, 0.00893248],\n",
              "      dtype=float32)"
            ]
          },
          "metadata": {},
          "execution_count": 48
        }
      ]
    },
    {
      "cell_type": "code",
      "source": [
        "# Plot loss curves\n",
        "plt.plot(epoch_count, np.array(torch.tensor(loss_values).numpy()), label = \"Train loss\")\n",
        "plt.plot(epoch_count, test_loss_values, label=\"test loss\")\n",
        "plt.title(\"Training and test loss curves\")\n",
        "plt.ylabel(\"Loss\")\n",
        "plt.xlabel(\"Epoch\")\n",
        "plt.legend();"
      ],
      "metadata": {
        "colab": {
          "base_uri": "https://localhost:8080/",
          "height": 295
        },
        "id": "TsUwHXeT9g0w",
        "outputId": "5507ff0a-2fe3-4d04-fe6a-ec558b44df56"
      },
      "execution_count": 49,
      "outputs": [
        {
          "output_type": "display_data",
          "data": {
            "text/plain": [
              "<Figure size 432x288 with 1 Axes>"
            ],
            "image/png": "[encoded data removed]"
          },
          "metadata": {
            "needs_background": "light"
          }
        }
      ]
    },
    {
      "cell_type": "code",
      "source": [
        "with torch.inference_mode(): # turns off gradient tracking & other things not needed for eval/testing\n",
        "  y_preds_new = model_0(X_test)"
      ],
      "metadata": {
        "id": "BNj8KdOoZbHh"
      },
      "execution_count": 50,
      "outputs": []
    },
    {
      "cell_type": "code",
      "source": [
        "# initial weight/bias\n",
        "model_0.state_dict()"
      ],
      "metadata": {
        "colab": {
          "base_uri": "https://localhost:8080/"
        },
        "id": "qfCkwwLwPQC8",
        "outputId": "7d73aad2-29cd-4519-b9ad-af32d30ef24b"
      },
      "execution_count": 51,
      "outputs": [
        {
          "output_type": "execute_result",
          "data": {
            "text/plain": [
              "OrderedDict([('weights', tensor([0.6990])), ('bias', tensor([0.3093]))])"
            ]
          },
          "metadata": {},
          "execution_count": 51
        }
      ]
    },
    {
      "cell_type": "code",
      "source": [
        "weight, bias"
      ],
      "metadata": {
        "colab": {
          "base_uri": "https://localhost:8080/"
        },
        "id": "rqzzf-8fY0j7",
        "outputId": "edc60ee5-e2d8-47dc-f6a1-ff003f693639"
      },
      "execution_count": 52,
      "outputs": [
        {
          "output_type": "execute_result",
          "data": {
            "text/plain": [
              "(0.7, 0.3)"
            ]
          },
          "metadata": {},
          "execution_count": 52
        }
      ]
    },
    {
      "cell_type": "code",
      "source": [
        "plot_predictions(predictions=y_preds)"
      ],
      "metadata": {
        "colab": {
          "base_uri": "https://localhost:8080/",
          "height": 265
        },
        "id": "ErkqkqjdZYqr",
        "outputId": "c83e3aff-4a56-4839-d6b1-16591d0da0f1"
      },
      "execution_count": 53,
      "outputs": [
        {
          "output_type": "display_data",
          "data": {
            "text/plain": [
              "<Figure size 432x288 with 1 Axes>"
            ],
            "image/png": "[encoded data removed]"
          },
          "metadata": {
            "needs_background": "light"
          }
        }
      ]
    },
    {
      "cell_type": "code",
      "source": [
        "plot_predictions(predictions=y_preds_new) \n",
        "# this is following 200 epochs"
      ],
      "metadata": {
        "colab": {
          "base_uri": "https://localhost:8080/",
          "height": 265
        },
        "id": "9vXp7FF5adEa",
        "outputId": "ce501ae4-7c2c-46b9-af72-3f4a0b4c2cc0"
      },
      "execution_count": 54,
      "outputs": [
        {
          "output_type": "display_data",
          "data": {
            "text/plain": [
              "<Figure size 432x288 with 1 Axes>"
            ],
            "image/png": "[encoded data removed]"
          },
          "metadata": {
            "needs_background": "light"
          }
        }
      ]
    },
    {
      "cell_type": "markdown",
      "source": [
        "## Saving a model in PyTorch\n",
        "\n",
        "There are 3 main methods for saving and loading models in PyTorch.\n",
        "\n",
        "1. `torch.save()` - allows you to save a PyTorch object in Python's pickle format - https://docs.python.org/3/library/pickle.htm\n",
        "2. `torch.load()` - allows you to load a saved pytorch object\n",
        "3. `torch.nn.Module.load_state_dict()` - allows you to load a model's saved state dictionary\n",
        "\n",
        "Resource for saving and loading model's in PyTorch: https://pytorch.org/tutorials/beginner/saving_loading_models.html\n"
      ],
      "metadata": {
        "id": "m4LNxXBfaj1D"
      }
    },
    {
      "cell_type": "code",
      "source": [
        "model_0.state_dict()"
      ],
      "metadata": {
        "colab": {
          "base_uri": "https://localhost:8080/"
        },
        "id": "qMfQRfRwlXnT",
        "outputId": "3cb84b51-778f-47f2-b26c-80b0ef3d4cf1"
      },
      "execution_count": 55,
      "outputs": [
        {
          "output_type": "execute_result",
          "data": {
            "text/plain": [
              "OrderedDict([('weights', tensor([0.6990])), ('bias', tensor([0.3093]))])"
            ]
          },
          "metadata": {},
          "execution_count": 55
        }
      ]
    },
    {
      "cell_type": "code",
      "source": [
        "# Optimizers also have a state_dict()\n",
        "optimizer.state_dict()"
      ],
      "metadata": {
        "colab": {
          "base_uri": "https://localhost:8080/"
        },
        "id": "E0WB2kKwl3A1",
        "outputId": "330ca690-df24-435c-8593-d2f5a76db800"
      },
      "execution_count": 56,
      "outputs": [
        {
          "output_type": "execute_result",
          "data": {
            "text/plain": [
              "{'state': {0: {'momentum_buffer': None}, 1: {'momentum_buffer': None}},\n",
              " 'param_groups': [{'lr': 0.01,\n",
              "   'momentum': 0,\n",
              "   'dampening': 0,\n",
              "   'weight_decay': 0,\n",
              "   'nesterov': False,\n",
              "   'maximize': False,\n",
              "   'foreach': None,\n",
              "   'differentiable': False,\n",
              "   'params': [0, 1]}]}"
            ]
          },
          "metadata": {},
          "execution_count": 56
        }
      ]
    },
    {
      "cell_type": "code",
      "source": [
        "# Saving our PyTorch model\n",
        "from pathlib import Path\n",
        "\n",
        "# 1. Create model directory\n",
        "MODEL_PATH = Path(\"models\")\n",
        "MODEL_PATH.mkdir(parents=True, exist_ok=True)\n",
        "\n",
        "# 2. Create a model save path\n",
        "MODEL_NAME = \"01_pytorch_workflow_0.pth\"\n",
        "MODEL_SAVE_PATH = MODEL_PATH / MODEL_NAME\n",
        "\n",
        "# 3. Save model `state_dict()`\n",
        "print(f\"Saving model to: {MODEL_SAVE_PATH}\")\n",
        "torch.save(obj=model_0.state_dict(), \n",
        "           f=MODEL_SAVE_PATH)"
      ],
      "metadata": {
        "colab": {
          "base_uri": "https://localhost:8080/"
        },
        "id": "lv2e_GWgmQn_",
        "outputId": "0fd28da3-d3d5-464a-eb3e-522657973e5a"
      },
      "execution_count": 57,
      "outputs": [
        {
          "output_type": "stream",
          "name": "stdout",
          "text": [
            "Saving model to: models/01_pytorch_workflow_0.pth\n"
          ]
        }
      ]
    },
    {
      "cell_type": "code",
      "source": [
        "!ls -1 models"
      ],
      "metadata": {
        "colab": {
          "base_uri": "https://localhost:8080/"
        },
        "id": "O1VzfURDnd-_",
        "outputId": "75c37756-45b4-4359-bfd4-1156b094b0d0"
      },
      "execution_count": 58,
      "outputs": [
        {
          "output_type": "stream",
          "name": "stdout",
          "text": [
            "01_pytorch_workflow_0.pth\n"
          ]
        }
      ]
    },
    {
      "cell_type": "markdown",
      "source": [
        "## Loading a Pytorch model\n",
        "\n",
        "Since we saved our model's `state_dict()` rather than the entire model, we'll create a new instance of our model class and load the saved `state_dict()` into that."
      ],
      "metadata": {
        "id": "cunyUYk7qCa-"
      }
    },
    {
      "cell_type": "code",
      "source": [
        "# To load in a saved state_dict we have to instantiate a new instance of our model class\n",
        "loaded_model_0 = LinearRegressionModel()\n",
        "\n",
        "# Load saved state_dict of mode_0 (wil update new instance with updated parameters)\n",
        "loaded_model_0.load_state_dict(torch.load(f=MODEL_SAVE_PATH))"
      ],
      "metadata": {
        "colab": {
          "base_uri": "https://localhost:8080/"
        },
        "id": "BHmUSDL_oMbu",
        "outputId": "e261628b-e21a-4868-a921-a060177e8b2f"
      },
      "execution_count": 59,
      "outputs": [
        {
          "output_type": "execute_result",
          "data": {
            "text/plain": [
              "<All keys matched successfully>"
            ]
          },
          "metadata": {},
          "execution_count": 59
        }
      ]
    },
    {
      "cell_type": "code",
      "source": [
        "loaded_model_0.state_dict()"
      ],
      "metadata": {
        "colab": {
          "base_uri": "https://localhost:8080/"
        },
        "id": "0a1GJLo7qmjM",
        "outputId": "9846b1ee-eecf-460e-c9c5-985fb3ceec5c"
      },
      "execution_count": 60,
      "outputs": [
        {
          "output_type": "execute_result",
          "data": {
            "text/plain": [
              "OrderedDict([('weights', tensor([0.6990])), ('bias', tensor([0.3093]))])"
            ]
          },
          "metadata": {},
          "execution_count": 60
        }
      ]
    },
    {
      "cell_type": "code",
      "source": [
        "# Make some model preds\n",
        "\n",
        "model_0.eval()\n",
        "with torch.inference_mode():\n",
        "  y_preds = model_0(X_test)\n",
        "\n",
        "y_preds"
      ],
      "metadata": {
        "colab": {
          "base_uri": "https://localhost:8080/"
        },
        "id": "7rKxHIA8rQ3U",
        "outputId": "e5ed6ab0-ee46-4abc-bda3-e7cff72812b9"
      },
      "execution_count": 61,
      "outputs": [
        {
          "output_type": "execute_result",
          "data": {
            "text/plain": [
              "tensor([[0.8685],\n",
              "        [0.8825],\n",
              "        [0.8965],\n",
              "        [0.9105],\n",
              "        [0.9245],\n",
              "        [0.9384],\n",
              "        [0.9524],\n",
              "        [0.9664],\n",
              "        [0.9804],\n",
              "        [0.9944]])"
            ]
          },
          "metadata": {},
          "execution_count": 61
        }
      ]
    },
    {
      "cell_type": "code",
      "source": [
        "# Make some predictions with our loaded model \n",
        "loaded_model_0.eval()\n",
        "\n",
        "with torch.inference_mode():\n",
        "  loaded_model_preds = loaded_model_0(X_test)\n",
        "\n",
        "loaded_model_preds"
      ],
      "metadata": {
        "colab": {
          "base_uri": "https://localhost:8080/"
        },
        "id": "ZYEP3RUdqpPw",
        "outputId": "8eb858d9-a04a-42c4-e8f0-bc11ecaa37fb"
      },
      "execution_count": 62,
      "outputs": [
        {
          "output_type": "execute_result",
          "data": {
            "text/plain": [
              "tensor([[0.8685],\n",
              "        [0.8825],\n",
              "        [0.8965],\n",
              "        [0.9105],\n",
              "        [0.9245],\n",
              "        [0.9384],\n",
              "        [0.9524],\n",
              "        [0.9664],\n",
              "        [0.9804],\n",
              "        [0.9944]])"
            ]
          },
          "metadata": {},
          "execution_count": 62
        }
      ]
    },
    {
      "cell_type": "code",
      "source": [
        "# Compare loaded model preds with original model preds\n",
        "y_preds == loaded_model_preds"
      ],
      "metadata": {
        "colab": {
          "base_uri": "https://localhost:8080/"
        },
        "id": "LeaGDcfUrMlU",
        "outputId": "9e52381a-39d3-452f-afef-a11f90708b93"
      },
      "execution_count": 63,
      "outputs": [
        {
          "output_type": "execute_result",
          "data": {
            "text/plain": [
              "tensor([[True],\n",
              "        [True],\n",
              "        [True],\n",
              "        [True],\n",
              "        [True],\n",
              "        [True],\n",
              "        [True],\n",
              "        [True],\n",
              "        [True],\n",
              "        [True]])"
            ]
          },
          "metadata": {},
          "execution_count": 63
        }
      ]
    },
    {
      "cell_type": "markdown",
      "source": [
        "## 6. Putting it all together\n",
        "\n",
        "Lets go back through the steps above and see it all in one place\n",
        "\n"
      ],
      "metadata": {
        "id": "l0L7Bpi7rScj"
      }
    },
    {
      "cell_type": "code",
      "source": [
        "# Import PyTorch and matplotlib\n",
        "\n",
        "import torch\n",
        "from torch import nn\n",
        "import matplotlib.pyplot as plt\n",
        "import numpy as np\n",
        "\n",
        "# Check pytorch version\n",
        "\n",
        "torch.__version__"
      ],
      "metadata": {
        "colab": {
          "base_uri": "https://localhost:8080/",
          "height": 35
        },
        "id": "28DKl1iQ0hWI",
        "outputId": "3b2af2c7-256c-4b47-f23a-2a8e15ed5095"
      },
      "execution_count": 64,
      "outputs": [
        {
          "output_type": "execute_result",
          "data": {
            "text/plain": [
              "'1.13.1+cu116'"
            ],
            "application/vnd.google.colaboratory.intrinsic+json": {
              "type": "string"
            }
          },
          "metadata": {},
          "execution_count": 64
        }
      ]
    },
    {
      "cell_type": "markdown",
      "source": [
        "Create device-agnostic code.\n",
        "\n",
        "This means if we have access to a GPU, our code will use it for potentially faster computing. \n",
        "\n",
        "If no GPU is available, code will default to CPU"
      ],
      "metadata": {
        "id": "89biJSnO04KU"
      }
    },
    {
      "cell_type": "code",
      "source": [
        "# Setup device agnostic code\n",
        "device = \"cuda\" if torch.cuda.is_available() else \"cpu\"\n",
        "print(device)"
      ],
      "metadata": {
        "id": "nG6QvQiy1CYp",
        "colab": {
          "base_uri": "https://localhost:8080/"
        },
        "outputId": "02cc2b5a-48f7-48df-cb09-0fe04bd74aef"
      },
      "execution_count": 65,
      "outputs": [
        {
          "output_type": "stream",
          "name": "stdout",
          "text": [
            "cuda\n"
          ]
        }
      ]
    },
    {
      "cell_type": "code",
      "source": [
        "!nvidia-smi"
      ],
      "metadata": {
        "colab": {
          "base_uri": "https://localhost:8080/"
        },
        "id": "UrdQgOIV1v0O",
        "outputId": "c2811e88-0a12-4a79-805a-437d2105b18a"
      },
      "execution_count": 66,
      "outputs": [
        {
          "output_type": "stream",
          "name": "stdout",
          "text": [
            "Thu Feb 23 15:05:50 2023       \n",
            "+-----------------------------------------------------------------------------+\n",
            "| NVIDIA-SMI 510.47.03    Driver Version: 510.47.03    CUDA Version: 11.6     |\n",
            "|-------------------------------+----------------------+----------------------+\n",
            "| GPU  Name        Persistence-M| Bus-Id        Disp.A | Volatile Uncorr. ECC |\n",
            "| Fan  Temp  Perf  Pwr:Usage/Cap|         Memory-Usage | GPU-Util  Compute M. |\n",
            "|                               |                      |               MIG M. |\n",
            "|===============================+======================+======================|\n",
            "|   0  Tesla T4            Off  | 00000000:00:04.0 Off |                    0 |\n",
            "| N/A   40C    P8     9W /  70W |      3MiB / 15360MiB |      0%      Default |\n",
            "|                               |                      |                  N/A |\n",
            "+-------------------------------+----------------------+----------------------+\n",
            "                                                                               \n",
            "+-----------------------------------------------------------------------------+\n",
            "| Processes:                                                                  |\n",
            "|  GPU   GI   CI        PID   Type   Process name                  GPU Memory |\n",
            "|        ID   ID                                                   Usage      |\n",
            "|=============================================================================|\n",
            "|  No running processes found                                                 |\n",
            "+-----------------------------------------------------------------------------+\n"
          ]
        }
      ]
    },
    {
      "cell_type": "markdown",
      "source": [
        "### 6.1 Generate / Prepare Data"
      ],
      "metadata": {
        "id": "ARMvKQ7H0QLU"
      }
    },
    {
      "cell_type": "code",
      "source": [
        "# Create parameters\n",
        "weight = 0.1\n",
        "bias = 0.5\n",
        "\n",
        "# Create data\n",
        "start = 0\n",
        "stop = 10\n",
        "step = 0.2\n",
        "\n",
        "X = torch.arange(start, stop, step=step).unsqueeze(dim=1)\n",
        "y = weight * X + bias\n",
        "\n",
        "print(f\"X: {X[:10]}\")\n",
        "print(f\"y: {y[:10]}\")"
      ],
      "metadata": {
        "colab": {
          "base_uri": "https://localhost:8080/"
        },
        "id": "3SbO83hF10My",
        "outputId": "6beb3632-8116-4ae3-ce6c-12cb7d406613"
      },
      "execution_count": 67,
      "outputs": [
        {
          "output_type": "stream",
          "name": "stdout",
          "text": [
            "X: tensor([[0.0000],\n",
            "        [0.2000],\n",
            "        [0.4000],\n",
            "        [0.6000],\n",
            "        [0.8000],\n",
            "        [1.0000],\n",
            "        [1.2000],\n",
            "        [1.4000],\n",
            "        [1.6000],\n",
            "        [1.8000]])\n",
            "y: tensor([[0.5000],\n",
            "        [0.5200],\n",
            "        [0.5400],\n",
            "        [0.5600],\n",
            "        [0.5800],\n",
            "        [0.6000],\n",
            "        [0.6200],\n",
            "        [0.6400],\n",
            "        [0.6600],\n",
            "        [0.6800]])\n"
          ]
        }
      ]
    },
    {
      "cell_type": "code",
      "source": [
        "# Plot generated X,y data\n",
        "plt.scatter(X,y)\n",
        "plt.xlabel(\"X\")\n",
        "plt.ylabel(\"y\");"
      ],
      "metadata": {
        "colab": {
          "base_uri": "https://localhost:8080/",
          "height": 279
        },
        "id": "cdB-S1Bz2UqI",
        "outputId": "d97b9c83-2496-4ac4-b322-f51d37fd7275"
      },
      "execution_count": 68,
      "outputs": [
        {
          "output_type": "display_data",
          "data": {
            "text/plain": [
              "<Figure size 432x288 with 1 Axes>"
            ],
            "image/png": "[encoded data removed]"
          },
          "metadata": {
            "needs_background": "light"
          }
        }
      ]
    },
    {
      "cell_type": "markdown",
      "source": [
        "#### Split data into training and test sets"
      ],
      "metadata": {
        "id": "_sxIDeIm3dOg"
      }
    },
    {
      "cell_type": "code",
      "source": [
        "# Split data into training and test sets\n",
        "\n",
        "train_split = int(0.8*len(X)) #Create 80/20 split for train/test\n",
        "\n",
        "# Create 80/20 split\n",
        "train_split = int(0.8*len(X))\n",
        "\n",
        "# Subset train and test data\n",
        "X_train, y_train = X[:train_split], y[:train_split]\n",
        "X_test, y_test =  X[train_split:], y[train_split:]\n",
        "\n",
        "len(X_train), len(y_train), len(X_test), len(y_test)"
      ],
      "metadata": {
        "colab": {
          "base_uri": "https://localhost:8080/"
        },
        "id": "9QbaRarA3HCG",
        "outputId": "e1fa375a-e00f-4db7-cfb6-32ed3f1e4cac"
      },
      "execution_count": 69,
      "outputs": [
        {
          "output_type": "execute_result",
          "data": {
            "text/plain": [
              "(40, 40, 10, 10)"
            ]
          },
          "metadata": {},
          "execution_count": 69
        }
      ]
    },
    {
      "cell_type": "code",
      "source": [
        "# Visualize X_train, y_train\n",
        "\n",
        "def plot_predictions(train_data=X_train,\n",
        "                     train_labels=y_train,\n",
        "                     test_data=X_test,\n",
        "                     test_labels=y_test,\n",
        "                     predictions=None):\n",
        "  # Plot training data\n",
        "  plt.scatter(train_data, train_labels, c=\"b\", s=4, label=\"Training data\")\n",
        "\n",
        "  # Plot test data\n",
        "  plt.scatter(test_data, test_labels, c=\"g\", s=4, label=\"Test data\")\n",
        "\n",
        "  #Plot predictions\n",
        "  if predictions is not None:\n",
        "    plt.scatter(test_data, predictions, c=\"r\", s=4, label=\"predictions\")\n",
        "\n",
        "  #Show legend\n",
        "  plt.legend();"
      ],
      "metadata": {
        "id": "Ysk39gDU3zSx"
      },
      "execution_count": 70,
      "outputs": []
    },
    {
      "cell_type": "code",
      "source": [
        "plot_predictions();"
      ],
      "metadata": {
        "colab": {
          "base_uri": "https://localhost:8080/",
          "height": 265
        },
        "id": "AyjAVrRZ5pO4",
        "outputId": "bb4a08c9-2c0c-4212-d733-b14b24f0b6ff"
      },
      "execution_count": 71,
      "outputs": [
        {
          "output_type": "display_data",
          "data": {
            "text/plain": [
              "<Figure size 432x288 with 1 Axes>"
            ],
            "image/png": "[encoded data removed]"
          },
          "metadata": {
            "needs_background": "light"
          }
        }
      ]
    },
    {
      "cell_type": "markdown",
      "source": [
        "### 6.2 Building a PyTorch Linear Model"
      ],
      "metadata": {
        "id": "cQLkh_Ok5se7"
      }
    },
    {
      "cell_type": "code",
      "source": [
        "# Create linear model by subclassing nn.Modue\n",
        "class LinearRegressionModelV2(nn.Module):\n",
        "  def __init__(self):\n",
        "    super().__init__()\n",
        "\n",
        "    # Use nn.Linear() for creating model parameters - Applies a linear transformation to the incoming data\n",
        "    # Also called lienar transform, dense layer, fully connected layer, probing layer\n",
        "    self.linear_layer = nn.Linear(in_features=1, # 1 input feat = X\n",
        "                                  out_features=1) # 1 output feat = y\n",
        "\n",
        "  # Define the forward() method\n",
        "  def forward(self, x: torch.Tensor) -> torch.Tensor:\n",
        "    return self.linear_layer(x)\n",
        "\n",
        "# Set manual seed\n",
        "torch.manual_seed(42)\n",
        "model_1 = LinearRegressionModelV2()\n",
        "model_1, model_1.state_dict()"
      ],
      "metadata": {
        "colab": {
          "base_uri": "https://localhost:8080/"
        },
        "id": "hkvT2IPH6Fvl",
        "outputId": "f78ebed2-437a-4647-87e9-aa9c580a7a12"
      },
      "execution_count": 72,
      "outputs": [
        {
          "output_type": "execute_result",
          "data": {
            "text/plain": [
              "(LinearRegressionModelV2(\n",
              "   (linear_layer): Linear(in_features=1, out_features=1, bias=True)\n",
              " ),\n",
              " OrderedDict([('linear_layer.weight', tensor([[0.7645]])),\n",
              "              ('linear_layer.bias', tensor([0.8300]))]))"
            ]
          },
          "metadata": {},
          "execution_count": 72
        }
      ]
    },
    {
      "cell_type": "code",
      "source": [
        "\n",
        "X_train[:5], y_train[:5]"
      ],
      "metadata": {
        "colab": {
          "base_uri": "https://localhost:8080/"
        },
        "id": "9m0Ctl5v8kaf",
        "outputId": "676acc19-fb6e-4754-d82c-4e25675c53a5"
      },
      "execution_count": 73,
      "outputs": [
        {
          "output_type": "execute_result",
          "data": {
            "text/plain": [
              "(tensor([[0.0000],\n",
              "         [0.2000],\n",
              "         [0.4000],\n",
              "         [0.6000],\n",
              "         [0.8000]]), tensor([[0.5000],\n",
              "         [0.5200],\n",
              "         [0.5400],\n",
              "         [0.5600],\n",
              "         [0.5800]]))"
            ]
          },
          "metadata": {},
          "execution_count": 73
        }
      ]
    },
    {
      "cell_type": "code",
      "source": [
        "# Test untrained model predictions\n",
        "\n",
        "with torch.inference_mode():\n",
        "  y_preds = model_1(X_test)\n",
        "\n",
        "y_preds"
      ],
      "metadata": {
        "colab": {
          "base_uri": "https://localhost:8080/"
        },
        "id": "0vzEutmB77hp",
        "outputId": "06642b6a-ce39-4f9b-dc80-18c30a042be6"
      },
      "execution_count": 74,
      "outputs": [
        {
          "output_type": "execute_result",
          "data": {
            "text/plain": [
              "tensor([[6.9463],\n",
              "        [7.0992],\n",
              "        [7.2521],\n",
              "        [7.4050],\n",
              "        [7.5579],\n",
              "        [7.7109],\n",
              "        [7.8638],\n",
              "        [8.0167],\n",
              "        [8.1696],\n",
              "        [8.3225]])"
            ]
          },
          "metadata": {},
          "execution_count": 74
        }
      ]
    },
    {
      "cell_type": "code",
      "source": [
        "plot_predictions(predictions=y_preds);"
      ],
      "metadata": {
        "colab": {
          "base_uri": "https://localhost:8080/",
          "height": 265
        },
        "id": "DgjwsXhbAi2g",
        "outputId": "8ba185f5-b57b-46fa-9a65-60238202c6d8"
      },
      "execution_count": 75,
      "outputs": [
        {
          "output_type": "display_data",
          "data": {
            "text/plain": [
              "<Figure size 432x288 with 1 Axes>"
            ],
            "image/png": "[encoded data removed]"
          },
          "metadata": {
            "needs_background": "light"
          }
        }
      ]
    },
    {
      "cell_type": "markdown",
      "source": [
        "### 6.3 Train Linear Model"
      ],
      "metadata": {
        "id": "n00R1notAp0m"
      }
    },
    {
      "cell_type": "code",
      "source": [
        "# Setup loss function\n",
        "loss_fn = nn.L1Loss()\n",
        "\n",
        "# Setup optimizer - use gradient descent for linear model\n",
        "optimizer = torch.optim.SGD(model_1.parameters(),\n",
        "                         lr = 0.01)"
      ],
      "metadata": {
        "id": "9TakFkr4BZx1"
      },
      "execution_count": 76,
      "outputs": []
    },
    {
      "cell_type": "code",
      "source": [
        "loss_fn"
      ],
      "metadata": {
        "colab": {
          "base_uri": "https://localhost:8080/"
        },
        "id": "_Kez-Y9NBfP8",
        "outputId": "eb462678-f521-4c02-ae99-5ac20d75e12d"
      },
      "execution_count": 77,
      "outputs": [
        {
          "output_type": "execute_result",
          "data": {
            "text/plain": [
              "L1Loss()"
            ]
          },
          "metadata": {},
          "execution_count": 77
        }
      ]
    },
    {
      "cell_type": "markdown",
      "source": [
        "#### Build training and testing loops"
      ],
      "metadata": {
        "id": "yNQuwed1CFTv"
      }
    },
    {
      "cell_type": "code",
      "source": [
        "# Set manual seed\n",
        "torch.manual_seed(42)\n",
        "\n",
        "# Track model progress\n",
        "epoch_count = []\n",
        "train_loss_values = []\n",
        "test_loss_values = []\n",
        "\n",
        "# Pass data through set num of epochs\n",
        "epochs = 200\n",
        "\n",
        "for epoch in range(epochs):\n",
        "\n",
        "  ### TRAINING\n",
        "  # Turn model to training mode\n",
        "  model_1.train()\n",
        "\n",
        "  # 1. Forward pass on train data\n",
        "  y_pred = model_1(X_train)\n",
        "\n",
        "  # 2. Calculate the loss\n",
        "  loss = loss_fn(y_pred, y_train)\n",
        "\n",
        "  # 3. Reset optimizer each epoch using zero_grad\n",
        "  optimizer.zero_grad()\n",
        "\n",
        "  # 4. Perform backpropgation on the loss\n",
        "  loss.backward()\n",
        "\n",
        "  # 5. Step optimizer (gradient descent)\n",
        "  optimizer.step()\n",
        "\n",
        "  ###TESTING\n",
        "  # Turn model to eval mode\n",
        "  model_1.eval()\n",
        "\n",
        "  # Turn on inference mode context manager\n",
        "  with torch.inference_mode():\n",
        "\n",
        "    # 1. Foward pass test data\n",
        "    test_pred = model_1(X_test)\n",
        "\n",
        "    # 2. Calculate loss\n",
        "    test_loss = loss_fn(test_pred, y_test)\n",
        "\n",
        "  # Print out output every 10 epochs\n",
        "  if epoch % 10 == 0:\n",
        "    epoch_count.append(epoch)\n",
        "    train_loss_values.append(loss)\n",
        "    test_loss_values.append(test_loss)\n",
        "    print(f\"Epoch: {epoch} | Train Loss: {loss} | Test Loss: {test_loss}\")\n",
        "\n",
        "    print(model_1.state_dict())"
      ],
      "metadata": {
        "colab": {
          "base_uri": "https://localhost:8080/"
        },
        "id": "Y5TzUQKiBtIB",
        "outputId": "c5323fb0-ec43-41fb-c511-ccd3aee0fa0a"
      },
      "execution_count": 78,
      "outputs": [
        {
          "output_type": "stream",
          "name": "stdout",
          "text": [
            "Epoch: 0 | Train Loss: 2.921708345413208 | Test Loss: 5.887301445007324\n",
            "OrderedDict([('linear_layer.weight', tensor([[0.7255]])), ('linear_layer.bias', tensor([0.8200]))])\n",
            "Epoch: 10 | Train Loss: 1.3007087707519531 | Test Loss: 2.3163018226623535\n",
            "OrderedDict([('linear_layer.weight', tensor([[0.3355]])), ('linear_layer.bias', tensor([0.7200]))])\n",
            "Epoch: 20 | Train Loss: 0.12122870981693268 | Test Loss: 0.0644083246588707\n",
            "OrderedDict([('linear_layer.weight', tensor([[0.0766]])), ('linear_layer.bias', tensor([0.6435]))])\n",
            "Epoch: 30 | Train Loss: 0.07699860632419586 | Test Loss: 0.3269083499908447\n",
            "OrderedDict([('linear_layer.weight', tensor([[0.0516]])), ('linear_layer.bias', tensor([0.6035]))])\n",
            "Epoch: 40 | Train Loss: 0.05912858247756958 | Test Loss: 0.33627843856811523\n",
            "OrderedDict([('linear_layer.weight', tensor([[0.0533]])), ('linear_layer.bias', tensor([0.5790]))])\n",
            "Epoch: 50 | Train Loss: 0.030385762453079224 | Test Loss: 0.1278885304927826\n",
            "OrderedDict([('linear_layer.weight', tensor([[0.0784]])), ('linear_layer.bias', tensor([0.5640]))])\n",
            "Epoch: 60 | Train Loss: 0.03956862539052963 | Test Loss: 0.3328384757041931\n",
            "OrderedDict([('linear_layer.weight', tensor([[0.0579]])), ('linear_layer.bias', tensor([0.5415]))])\n",
            "Epoch: 70 | Train Loss: 0.05107864737510681 | Test Loss: 0.29182854294776917\n",
            "OrderedDict([('linear_layer.weight', tensor([[0.0638]])), ('linear_layer.bias', tensor([0.5300]))])\n",
            "Epoch: 80 | Train Loss: 0.028988689184188843 | Test Loss: 0.32941851019859314\n",
            "OrderedDict([('linear_layer.weight', tensor([[0.0607]])), ('linear_layer.bias', tensor([0.5200]))])\n",
            "Epoch: 90 | Train Loss: 0.018198709934949875 | Test Loss: 0.3457085192203522\n",
            "OrderedDict([('linear_layer.weight', tensor([[0.0596]])), ('linear_layer.bias', tensor([0.5135]))])\n",
            "Epoch: 100 | Train Loss: 0.011248728260397911 | Test Loss: 0.3551585078239441\n",
            "OrderedDict([('linear_layer.weight', tensor([[0.0591]])), ('linear_layer.bias', tensor([0.5085]))])\n",
            "Epoch: 110 | Train Loss: 0.007858882658183575 | Test Loss: 0.35904836654663086\n",
            "OrderedDict([('linear_layer.weight', tensor([[0.0590]])), ('linear_layer.bias', tensor([0.5055]))])\n",
            "Epoch: 120 | Train Loss: 0.02106901817023754 | Test Loss: 0.3263382315635681\n",
            "OrderedDict([('linear_layer.weight', tensor([[0.0629]])), ('linear_layer.bias', tensor([0.5035]))])\n",
            "Epoch: 130 | Train Loss: 0.01856919936835766 | Test Loss: 0.328838050365448\n",
            "OrderedDict([('linear_layer.weight', tensor([[0.0629]])), ('linear_layer.bias', tensor([0.5010]))])\n",
            "Epoch: 140 | Train Loss: 0.01706930622458458 | Test Loss: 0.3303379416465759\n",
            "OrderedDict([('linear_layer.weight', tensor([[0.0629]])), ('linear_layer.bias', tensor([0.4995]))])\n",
            "Epoch: 150 | Train Loss: 0.01706930622458458 | Test Loss: 0.3303379416465759\n",
            "OrderedDict([('linear_layer.weight', tensor([[0.0629]])), ('linear_layer.bias', tensor([0.4995]))])\n",
            "Epoch: 160 | Train Loss: 0.01706930622458458 | Test Loss: 0.3303379416465759\n",
            "OrderedDict([('linear_layer.weight', tensor([[0.0629]])), ('linear_layer.bias', tensor([0.4995]))])\n",
            "Epoch: 170 | Train Loss: 0.01706930622458458 | Test Loss: 0.3303379416465759\n",
            "OrderedDict([('linear_layer.weight', tensor([[0.0629]])), ('linear_layer.bias', tensor([0.4995]))])\n",
            "Epoch: 180 | Train Loss: 0.01706930622458458 | Test Loss: 0.3303379416465759\n",
            "OrderedDict([('linear_layer.weight', tensor([[0.0629]])), ('linear_layer.bias', tensor([0.4995]))])\n",
            "Epoch: 190 | Train Loss: 0.01706930622458458 | Test Loss: 0.3303379416465759\n",
            "OrderedDict([('linear_layer.weight', tensor([[0.0629]])), ('linear_layer.bias', tensor([0.4995]))])\n"
          ]
        }
      ]
    },
    {
      "cell_type": "markdown",
      "source": [
        "### 6.4 Making Predictions"
      ],
      "metadata": {
        "id": "LHNiIXuIw7Um"
      }
    },
    {
      "cell_type": "code",
      "source": [
        "plot_predictions(predictions=test_pred)"
      ],
      "metadata": {
        "colab": {
          "base_uri": "https://localhost:8080/",
          "height": 265
        },
        "id": "ygrb3iH7FLA_",
        "outputId": "324d3e84-af36-4d05-d488-199dbb5fa4f9"
      },
      "execution_count": 79,
      "outputs": [
        {
          "output_type": "display_data",
          "data": {
            "text/plain": [
              "<Figure size 432x288 with 1 Axes>"
            ],
            "image/png": "[encoded data removed]"
          },
          "metadata": {
            "needs_background": "light"
          }
        }
      ]
    },
    {
      "cell_type": "code",
      "source": [
        "# Plot loss curves\n",
        "\n",
        "plt.plot(epoch_count, np.array(torch.tensor(train_loss_values).numpy()), label=\"Train Loss\")\n",
        "plt.plot(epoch_count, test_loss_values, label=\"Test Loss\")\n",
        "plt.xlabel(\"Epoch\")\n",
        "plt.ylabel(\"Loss\")\n",
        "plt.title(\"Training & Test Loss\")\n",
        "plt.legend();"
      ],
      "metadata": {
        "colab": {
          "base_uri": "https://localhost:8080/",
          "height": 295
        },
        "id": "JA_3DOVXFi0g",
        "outputId": "fce1a8ce-23d3-46fb-ac4b-56fea675abf6"
      },
      "execution_count": 80,
      "outputs": [
        {
          "output_type": "display_data",
          "data": {
            "text/plain": [
              "<Figure size 432x288 with 1 Axes>"
            ],
            "image/png": "[encoded data removed]"
          },
          "metadata": {
            "needs_background": "light"
          }
        }
      ]
    },
    {
      "cell_type": "markdown",
      "source": [
        "### 6.5 Saving and loading model "
      ],
      "metadata": {
        "id": "2LdPVC0mGQ1I"
      }
    },
    {
      "cell_type": "code",
      "source": [
        "model_1.state_dict()"
      ],
      "metadata": {
        "colab": {
          "base_uri": "https://localhost:8080/"
        },
        "id": "dpDPsX_ZxCcT",
        "outputId": "aefbc13f-58ba-4c44-e8bd-ef2f4cde16a7"
      },
      "execution_count": 81,
      "outputs": [
        {
          "output_type": "execute_result",
          "data": {
            "text/plain": [
              "OrderedDict([('linear_layer.weight', tensor([[0.1019]])),\n",
              "             ('linear_layer.bias', tensor([0.5095]))])"
            ]
          },
          "metadata": {},
          "execution_count": 81
        }
      ]
    },
    {
      "cell_type": "code",
      "source": [
        "optimizer.state_dict()"
      ],
      "metadata": {
        "colab": {
          "base_uri": "https://localhost:8080/"
        },
        "id": "ndx6xWHAxNtM",
        "outputId": "4543a024-65d9-4052-a608-5c3153f23031"
      },
      "execution_count": 82,
      "outputs": [
        {
          "output_type": "execute_result",
          "data": {
            "text/plain": [
              "{'state': {0: {'momentum_buffer': None}, 1: {'momentum_buffer': None}},\n",
              " 'param_groups': [{'lr': 0.01,\n",
              "   'momentum': 0,\n",
              "   'dampening': 0,\n",
              "   'weight_decay': 0,\n",
              "   'nesterov': False,\n",
              "   'maximize': False,\n",
              "   'foreach': None,\n",
              "   'differentiable': False,\n",
              "   'params': [0, 1]}]}"
            ]
          },
          "metadata": {},
          "execution_count": 82
        }
      ]
    },
    {
      "cell_type": "code",
      "source": [
        "# Save PyTorch model: model_1 \n",
        "from pathlib import Path\n",
        "\n",
        "# 1. Instantiate model directory -> in Google Colab: content/mkdir_name/model_path\n",
        "# we already created a \"models\" directory path previously using mkdir\n",
        "MODEL_PATH = Path(\"models\")\n",
        "\n",
        "# 2. Create a model save path\n",
        "MODEL_NAME = \"01_pytorch_workflow_1.pth\"\n",
        "MODEL_SAVE_PATH = MODEL_PATH / MODEL_NAME\n",
        "\n",
        "# 3. Save model `state_dict()`\n",
        "print(f\"Saving model to: {MODEL_SAVE_PATH}\")\n",
        "torch.save(obj=model_1.state_dict(),\n",
        "           f=MODEL_SAVE_PATH)"
      ],
      "metadata": {
        "colab": {
          "base_uri": "https://localhost:8080/"
        },
        "id": "V6sYLym3xx38",
        "outputId": "9b7dff3d-e601-490c-90f1-614d8b002ad0"
      },
      "execution_count": 83,
      "outputs": [
        {
          "output_type": "stream",
          "name": "stdout",
          "text": [
            "Saving model to: models/01_pytorch_workflow_1.pth\n"
          ]
        }
      ]
    },
    {
      "cell_type": "code",
      "source": [
        "# Load model\n",
        "\n",
        "loaded_model_1 = LinearRegressionModelV2()\n",
        "\n",
        "loaded_model_1.load_state_dict(torch.load(MODEL_SAVE_PATH))\n",
        "loaded_model_1.state_dict()"
      ],
      "metadata": {
        "colab": {
          "base_uri": "https://localhost:8080/"
        },
        "id": "I0ycpCHg0OEH",
        "outputId": "416bb248-5405-4f88-dc67-646a994200bd"
      },
      "execution_count": 84,
      "outputs": [
        {
          "output_type": "execute_result",
          "data": {
            "text/plain": [
              "OrderedDict([('linear_layer.weight', tensor([[0.1019]])),\n",
              "             ('linear_layer.bias', tensor([0.5095]))])"
            ]
          },
          "metadata": {},
          "execution_count": 84
        }
      ]
    },
    {
      "cell_type": "code",
      "source": [
        "# Make predictions with model_1\n",
        "model_1.eval()\n",
        "with torch.inference_mode():\n",
        "  y_preds = model_1(X_test)\n",
        "\n",
        "y_preds"
      ],
      "metadata": {
        "colab": {
          "base_uri": "https://localhost:8080/"
        },
        "id": "ACaA2x6r1BcL",
        "outputId": "f78b74da-0768-45e6-96f5-ab431fd33010"
      },
      "execution_count": 85,
      "outputs": [
        {
          "output_type": "execute_result",
          "data": {
            "text/plain": [
              "tensor([[1.3250],\n",
              "        [1.3454],\n",
              "        [1.3658],\n",
              "        [1.3862],\n",
              "        [1.4066],\n",
              "        [1.4270],\n",
              "        [1.4473],\n",
              "        [1.4677],\n",
              "        [1.4881],\n",
              "        [1.5085]])"
            ]
          },
          "metadata": {},
          "execution_count": 85
        }
      ]
    },
    {
      "cell_type": "code",
      "source": [
        "# Make predictions with loaded_model_1\n",
        "loaded_model_1.eval()\n",
        "with torch.inference_mode():\n",
        "  loaded_y_preds = loaded_model_1(X_test)\n",
        "\n",
        "loaded_y_preds"
      ],
      "metadata": {
        "colab": {
          "base_uri": "https://localhost:8080/"
        },
        "id": "5TaYFR__1Mqe",
        "outputId": "08fe5b7f-08f1-4e40-9697-2d512e556f07"
      },
      "execution_count": 86,
      "outputs": [
        {
          "output_type": "execute_result",
          "data": {
            "text/plain": [
              "tensor([[1.3250],\n",
              "        [1.3454],\n",
              "        [1.3658],\n",
              "        [1.3862],\n",
              "        [1.4066],\n",
              "        [1.4270],\n",
              "        [1.4473],\n",
              "        [1.4677],\n",
              "        [1.4881],\n",
              "        [1.5085]])"
            ]
          },
          "metadata": {},
          "execution_count": 86
        }
      ]
    },
    {
      "cell_type": "code",
      "source": [
        "# Are predictions from model_1 and loaded_model_1 identical?\n",
        "y_preds == loaded_y_preds"
      ],
      "metadata": {
        "colab": {
          "base_uri": "https://localhost:8080/"
        },
        "id": "VyPItbTp1n82",
        "outputId": "12dd118c-bbea-4c42-a73e-e046630be517"
      },
      "execution_count": 87,
      "outputs": [
        {
          "output_type": "execute_result",
          "data": {
            "text/plain": [
              "tensor([[True],\n",
              "        [True],\n",
              "        [True],\n",
              "        [True],\n",
              "        [True],\n",
              "        [True],\n",
              "        [True],\n",
              "        [True],\n",
              "        [True],\n",
              "        [True]])"
            ]
          },
          "metadata": {},
          "execution_count": 87
        }
      ]
    }
  ]
}