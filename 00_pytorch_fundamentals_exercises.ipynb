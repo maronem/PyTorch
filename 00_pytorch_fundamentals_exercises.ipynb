{
  "nbformat": 4,
  "nbformat_minor": 0,
  "metadata": {
    "colab": {
      "provenance": [],
      "authorship_tag": "ABX9TyPJ8DcZXucf6QDdp1ZIi/eu",
      "include_colab_link": true
    },
    "kernelspec": {
      "name": "python3",
      "display_name": "Python 3"
    },
    "language_info": {
      "name": "python"
    },
    "accelerator": "GPU",
    "gpuClass": "standard"
  },
  "cells": [
    {
      "cell_type": "markdown",
      "metadata": {
        "id": "view-in-github",
        "colab_type": "text"
      },
      "source": [
        "<a href=\"https://colab.research.google.com/github/maronem/PyTorch/blob/main/00_pytorch_fundamentals_exercises.ipynb\" target=\"_parent\"><img src=\"https://colab.research.google.com/assets/colab-badge.svg\" alt=\"Open In Colab\"/></a>"
      ]
    },
    {
      "cell_type": "code",
      "execution_count": 1,
      "metadata": {
        "id": "0UKQ5Kfi0RXe"
      },
      "outputs": [],
      "source": [
        "# import PyTorch and numpy\n",
        "import torch\n",
        "import numpy as np"
      ]
    },
    {
      "cell_type": "markdown",
      "source": [
        "### 1. Documentation reading \n",
        "\n",
        "A big part of deep learning is getting familiar with the documentation of a certain framework you're using. So I'd recommend spending 10-minutes reading the following. \n",
        "\n",
        "See the documentation on `torch.Tensor` and for `torch.cuda`\n",
        "."
      ],
      "metadata": {
        "id": "bCkjfb5Q0aXO"
      }
    },
    {
      "cell_type": "markdown",
      "source": [
        "### 2. Create a random tensor with shape (7, 7)."
      ],
      "metadata": {
        "id": "dYGmL6sj10KJ"
      }
    },
    {
      "cell_type": "code",
      "source": [
        "tensor = torch.rand(7,7)\n",
        "tensor, tensor.shape"
      ],
      "metadata": {
        "colab": {
          "base_uri": "https://localhost:8080/"
        },
        "id": "lztFek8J0p9S",
        "outputId": "ad46e687-0dd0-49a4-e9dd-fa6c8e375147"
      },
      "execution_count": 2,
      "outputs": [
        {
          "output_type": "execute_result",
          "data": {
            "text/plain": [
              "(tensor([[0.3521, 0.0903, 0.0197, 0.7363, 0.7505, 0.0036, 0.9040],\n",
              "         [0.4420, 0.8612, 0.1053, 0.5209, 0.4011, 0.6293, 0.3562],\n",
              "         [0.1553, 0.4518, 0.4067, 0.8940, 0.5695, 0.9840, 0.9111],\n",
              "         [0.1096, 0.4987, 0.1245, 0.8673, 0.5707, 0.3056, 0.9809],\n",
              "         [0.3230, 0.9565, 0.8604, 0.1595, 0.7112, 0.4301, 0.6156],\n",
              "         [0.9142, 0.4159, 0.0407, 0.7872, 0.9409, 0.2532, 0.7301],\n",
              "         [0.3648, 0.2925, 0.2533, 0.3816, 0.1665, 0.6320, 0.8157]]),\n",
              " torch.Size([7, 7]))"
            ]
          },
          "metadata": {},
          "execution_count": 2
        }
      ]
    },
    {
      "cell_type": "markdown",
      "source": [
        "### 3. Perform a matrix multiplication on the tensor with another random tensor with shape (1, 7) \n",
        "\n",
        "(hint: you may have to transpose the second tensor)."
      ],
      "metadata": {
        "id": "SSI9FQ_11uNC"
      }
    },
    {
      "cell_type": "code",
      "source": [
        "tensor_B = torch.rand(1,7)\n",
        "tensor_B, tensor_B.shape\n",
        "\n",
        "torch.mm(tensor, tensor_B.T), torch.mm(tensor, tensor_B.T).shape"
      ],
      "metadata": {
        "colab": {
          "base_uri": "https://localhost:8080/"
        },
        "id": "Nrgl7zbC029O",
        "outputId": "213f69f9-638b-48eb-c908-b7d3e91c775f"
      },
      "execution_count": 8,
      "outputs": [
        {
          "output_type": "execute_result",
          "data": {
            "text/plain": [
              "(tensor([[1.4520],\n",
              "         [1.8726],\n",
              "         [2.5329],\n",
              "         [1.9613],\n",
              "         [1.7512],\n",
              "         [2.0217],\n",
              "         [1.5713]]), torch.Size([7, 1]))"
            ]
          },
          "metadata": {},
          "execution_count": 8
        }
      ]
    },
    {
      "cell_type": "markdown",
      "source": [
        "### 4. Set the random seed to 0 and do exercises 2 & 3 over again."
      ],
      "metadata": {
        "id": "rMRkeAzA18il"
      }
    },
    {
      "cell_type": "code",
      "source": [
        "RANDOM_SEED = 0"
      ],
      "metadata": {
        "id": "AgAOIXGC1PCk"
      },
      "execution_count": 9,
      "outputs": []
    },
    {
      "cell_type": "code",
      "source": [
        "# Create rand tensors with shapes (7,7) and (1,7) and set random seed to 0\n",
        "torch.manual_seed(RANDOM_SEED)\n",
        "tensor_A = torch.rand(7,7)\n",
        "\n",
        "torch.manual_seed(RANDOM_SEED)\n",
        "tensor_B = torch.rand(1,7)\n",
        "\n",
        "tensor_A, tensor_A.shape,tensor_B, tensor_B.shape"
      ],
      "metadata": {
        "colab": {
          "base_uri": "https://localhost:8080/"
        },
        "id": "ZuOjKfv52EkB",
        "outputId": "7fd68a09-c8b8-49ef-aa08-fe7dfc4321f1"
      },
      "execution_count": 12,
      "outputs": [
        {
          "output_type": "execute_result",
          "data": {
            "text/plain": [
              "(tensor([[0.4963, 0.7682, 0.0885, 0.1320, 0.3074, 0.6341, 0.4901],\n",
              "         [0.8964, 0.4556, 0.6323, 0.3489, 0.4017, 0.0223, 0.1689],\n",
              "         [0.2939, 0.5185, 0.6977, 0.8000, 0.1610, 0.2823, 0.6816],\n",
              "         [0.9152, 0.3971, 0.8742, 0.4194, 0.5529, 0.9527, 0.0362],\n",
              "         [0.1852, 0.3734, 0.3051, 0.9320, 0.1759, 0.2698, 0.1507],\n",
              "         [0.0317, 0.2081, 0.9298, 0.7231, 0.7423, 0.5263, 0.2437],\n",
              "         [0.5846, 0.0332, 0.1387, 0.2422, 0.8155, 0.7932, 0.2783]]),\n",
              " torch.Size([7, 7]),\n",
              " tensor([[0.4963, 0.7682, 0.0885, 0.1320, 0.3074, 0.6341, 0.4901]]),\n",
              " torch.Size([1, 7]))"
            ]
          },
          "metadata": {},
          "execution_count": 12
        }
      ]
    },
    {
      "cell_type": "code",
      "source": [
        "# Perform matrix multiplication\n",
        "torch.mm(tensor_A, tensor_B.T)"
      ],
      "metadata": {
        "colab": {
          "base_uri": "https://localhost:8080/"
        },
        "id": "awC1di3j2eY7",
        "outputId": "36e421d8-1b6b-415c-8bb7-f53d6e49e5e2"
      },
      "execution_count": 17,
      "outputs": [
        {
          "output_type": "execute_result",
          "data": {
            "text/plain": [
              "tensor([[1.5985],\n",
              "        [1.1173],\n",
              "        [1.2741],\n",
              "        [1.6838],\n",
              "        [0.8279],\n",
              "        [1.0347],\n",
              "        [1.2498]])"
            ]
          },
          "metadata": {},
          "execution_count": 17
        }
      ]
    },
    {
      "cell_type": "markdown",
      "source": [
        "### 5. Speaking of random seeds, we saw how to set it with torch.manual_seed() but is there a GPU equivalent? \n",
        "\n",
        "(hint: you'll need to look into the documentation for torch.cuda for this one). If there is, set the GPU random seed to 1234."
      ],
      "metadata": {
        "id": "fuJV7c0l3KyR"
      }
    },
    {
      "cell_type": "code",
      "source": [
        "!nvidia-smi"
      ],
      "metadata": {
        "colab": {
          "base_uri": "https://localhost:8080/"
        },
        "id": "kWiuWmVW3pK2",
        "outputId": "562f02b9-8d94-4482-9755-3fc88cc7bc04"
      },
      "execution_count": 1,
      "outputs": [
        {
          "output_type": "stream",
          "name": "stdout",
          "text": [
            "Wed Feb  1 16:46:33 2023       \n",
            "+-----------------------------------------------------------------------------+\n",
            "| NVIDIA-SMI 510.47.03    Driver Version: 510.47.03    CUDA Version: 11.6     |\n",
            "|-------------------------------+----------------------+----------------------+\n",
            "| GPU  Name        Persistence-M| Bus-Id        Disp.A | Volatile Uncorr. ECC |\n",
            "| Fan  Temp  Perf  Pwr:Usage/Cap|         Memory-Usage | GPU-Util  Compute M. |\n",
            "|                               |                      |               MIG M. |\n",
            "|===============================+======================+======================|\n",
            "|   0  Tesla T4            Off  | 00000000:00:04.0 Off |                    0 |\n",
            "| N/A   59C    P0    28W /  70W |      0MiB / 15360MiB |      0%      Default |\n",
            "|                               |                      |                  N/A |\n",
            "+-------------------------------+----------------------+----------------------+\n",
            "                                                                               \n",
            "+-----------------------------------------------------------------------------+\n",
            "| Processes:                                                                  |\n",
            "|  GPU   GI   CI        PID   Type   Process name                  GPU Memory |\n",
            "|        ID   ID                                                   Usage      |\n",
            "|=============================================================================|\n",
            "|  No running processes found                                                 |\n",
            "+-----------------------------------------------------------------------------+\n"
          ]
        }
      ]
    },
    {
      "cell_type": "code",
      "source": [
        "# check if GPU available\n",
        "import torch\n",
        "torch.cuda.is_available()"
      ],
      "metadata": {
        "colab": {
          "base_uri": "https://localhost:8080/"
        },
        "id": "eotUeMxW2mp6",
        "outputId": "5ca3f5c2-c69d-4b11-841a-da73d4307edf"
      },
      "execution_count": 4,
      "outputs": [
        {
          "output_type": "execute_result",
          "data": {
            "text/plain": [
              "True"
            ]
          },
          "metadata": {},
          "execution_count": 4
        }
      ]
    },
    {
      "cell_type": "code",
      "source": [
        "# Set GPU random seed to 1234\n",
        "GPU_RANDOM_SEED = torch.cuda.manual_seed(1234)"
      ],
      "metadata": {
        "id": "r13gArxc3Kki"
      },
      "execution_count": 19,
      "outputs": []
    },
    {
      "cell_type": "markdown",
      "source": [
        "#### 6. Create two random tensors of shape (2, 3) and send them both to the GPU"
      ],
      "metadata": {
        "id": "jYksyG7A4DJJ"
      }
    },
    {
      "cell_type": "code",
      "source": [
        "device = \"cuda\" if torch.cuda.is_available() else \"cpu\"\n",
        "print(device)"
      ],
      "metadata": {
        "colab": {
          "base_uri": "https://localhost:8080/"
        },
        "id": "aAcACwgV5Z6Z",
        "outputId": "f18e880f-a939-42a6-abf5-809d2e5b0f13"
      },
      "execution_count": 24,
      "outputs": [
        {
          "output_type": "stream",
          "name": "stdout",
          "text": [
            "cuda\n"
          ]
        }
      ]
    },
    {
      "cell_type": "code",
      "source": [
        "# Create random tensors and send to GPU\n",
        "random_seed = 1234\n",
        "\n",
        "torch.manual_seed(random_seed)\n",
        "gpu_tensor_A = torch.rand(2,3).to(device)\n",
        "\n",
        "torch.manual_seed(random_seed)\n",
        "gpu_tensor_B = torch.rand(2,3).to(device)\n",
        "\n",
        "gpu_tensor_A, gpu_tensor_B"
      ],
      "metadata": {
        "colab": {
          "base_uri": "https://localhost:8080/"
        },
        "id": "_4skDsan5ire",
        "outputId": "cee1480a-6458-484e-c72e-354c8b5fdd4a"
      },
      "execution_count": 22,
      "outputs": [
        {
          "output_type": "execute_result",
          "data": {
            "text/plain": [
              "(tensor([[0.0290, 0.4019, 0.2598],\n",
              "         [0.3666, 0.0583, 0.7006]], device='cuda:0'),\n",
              " tensor([[0.0290, 0.4019, 0.2598],\n",
              "         [0.3666, 0.0583, 0.7006]], device='cuda:0'))"
            ]
          },
          "metadata": {},
          "execution_count": 22
        }
      ]
    },
    {
      "cell_type": "code",
      "source": [
        "# Check if tensors are matching\n",
        "\n",
        "print(gpu_tensor_A == gpu_tensor_B)"
      ],
      "metadata": {
        "colab": {
          "base_uri": "https://localhost:8080/"
        },
        "id": "uIMrongZ4iA4",
        "outputId": "a28f1bcd-0088-496f-eddc-b0e8dad3f6d3"
      },
      "execution_count": 23,
      "outputs": [
        {
          "output_type": "stream",
          "name": "stdout",
          "text": [
            "tensor([[True, True, True],\n",
            "        [True, True, True]], device='cuda:0')\n"
          ]
        }
      ]
    },
    {
      "cell_type": "markdown",
      "source": [
        "### 7. Perform a matrix multiplication on the tensors you created in 6 (again, you may have to adjust the shapes of one of the tensors)."
      ],
      "metadata": {
        "id": "brRAG5-l8kUM"
      }
    },
    {
      "cell_type": "code",
      "source": [
        "# Check tensor shapes\n",
        "gpu_tensor_A.shape, gpu_tensor_B.shape"
      ],
      "metadata": {
        "colab": {
          "base_uri": "https://localhost:8080/"
        },
        "id": "YKrGLXY941Yp",
        "outputId": "044b2864-263c-4aa3-86c2-bf4ac505124f"
      },
      "execution_count": 25,
      "outputs": [
        {
          "output_type": "execute_result",
          "data": {
            "text/plain": [
              "(torch.Size([2, 3]), torch.Size([2, 3]))"
            ]
          },
          "metadata": {},
          "execution_count": 25
        }
      ]
    },
    {
      "cell_type": "code",
      "source": [
        "# Perform matrix multiplcation on gpu tensors\n",
        "\n",
        "gpu_tensor = torch.mm(gpu_tensor_A, gpu_tensor_B.T)\n",
        "gpu_tensor"
      ],
      "metadata": {
        "colab": {
          "base_uri": "https://localhost:8080/"
        },
        "id": "SbUVeMMF8wVv",
        "outputId": "b3d841b6-ad80-4c53-c6df-0ea324103337"
      },
      "execution_count": 27,
      "outputs": [
        {
          "output_type": "execute_result",
          "data": {
            "text/plain": [
              "tensor([[0.2299, 0.2161],\n",
              "        [0.2161, 0.6287]], device='cuda:0')"
            ]
          },
          "metadata": {},
          "execution_count": 27
        }
      ]
    },
    {
      "cell_type": "markdown",
      "source": [
        "### 8. Find the maximum and minimum values of the output of 7."
      ],
      "metadata": {
        "id": "rIpBiOZJ8_hV"
      }
    },
    {
      "cell_type": "code",
      "source": [
        "# Find the max and min values of output gpu tensor\n",
        "print(gpu_tensor)\n",
        "print(\"\\n\")\n",
        "print(f\"Max value: {gpu_tensor.max()}\")\n",
        "print(f\"Min value: {gpu_tensor.min()}\")"
      ],
      "metadata": {
        "colab": {
          "base_uri": "https://localhost:8080/"
        },
        "id": "x7Sx2aVJ86lB",
        "outputId": "9a48823f-f96f-44ee-c1a3-a471099ee482"
      },
      "execution_count": 34,
      "outputs": [
        {
          "output_type": "stream",
          "name": "stdout",
          "text": [
            "tensor([[0.2299, 0.2161],\n",
            "        [0.2161, 0.6287]], device='cuda:0')\n",
            "\n",
            "\n",
            "Max value: 0.628727912902832\n",
            "Min value: 0.21611443161964417\n"
          ]
        }
      ]
    },
    {
      "cell_type": "markdown",
      "source": [
        "### 9. Find the maximum and minimum index values of the output of 7."
      ],
      "metadata": {
        "id": "RnLCeEh29mbW"
      }
    },
    {
      "cell_type": "code",
      "source": [
        "# Find max / min indexes \n",
        "\n",
        "print(gpu_tensor)\n",
        "print(\"\\n\")\n",
        "print(f\"Max value index: {gpu_tensor.argmax()}\")\n",
        "print(f\"Min value index: {gpu_tensor.argmin()}\")"
      ],
      "metadata": {
        "colab": {
          "base_uri": "https://localhost:8080/"
        },
        "id": "rsuLnFB29Yg8",
        "outputId": "6da059b5-83e6-44e8-8459-3a2e7aeb2232"
      },
      "execution_count": 35,
      "outputs": [
        {
          "output_type": "stream",
          "name": "stdout",
          "text": [
            "tensor([[0.2299, 0.2161],\n",
            "        [0.2161, 0.6287]], device='cuda:0')\n",
            "\n",
            "\n",
            "Max value index: 3\n",
            "Min value index: 1\n"
          ]
        }
      ]
    },
    {
      "cell_type": "markdown",
      "source": [
        "### 10. Make a random tensor with shape (1, 1, 1, 10) and then create a new tensor with all the 1 dimensions removed to be left with a tensor of shape (10). Set the seed to 7 when you create it and print out the first tensor and it's shape as well as the second tensor and it's shape."
      ],
      "metadata": {
        "id": "idbnWQuP9-hy"
      }
    },
    {
      "cell_type": "code",
      "source": [
        "# Make random tensor with shape (1,1,1,10)\n",
        "\n",
        "tensor = torch.rand(1,1,1,10)\n",
        "tensor, tensor.shape"
      ],
      "metadata": {
        "colab": {
          "base_uri": "https://localhost:8080/"
        },
        "id": "JGfmln8Y9PbE",
        "outputId": "7a96170f-f02a-4cde-a07c-20d62ca237e4"
      },
      "execution_count": 37,
      "outputs": [
        {
          "output_type": "execute_result",
          "data": {
            "text/plain": [
              "(tensor([[[[0.2837, 0.6567, 0.2388, 0.7313, 0.6012, 0.3043, 0.2548, 0.6294,\n",
              "            0.9665, 0.7399]]]]), torch.Size([1, 1, 1, 10]))"
            ]
          },
          "metadata": {},
          "execution_count": 37
        }
      ]
    },
    {
      "cell_type": "code",
      "source": [
        "# Create new tensor with all the 1 dimensions removed - shape should be (10)\n",
        "squeezed_tensor = tensor.squeeze()\n",
        "squeezed_tensor, squeezed_tensor.shape"
      ],
      "metadata": {
        "colab": {
          "base_uri": "https://localhost:8080/"
        },
        "id": "-sq5ThXu-Gj4",
        "outputId": "3bddb062-63d8-4a25-b8cf-17bb7a46fe0e"
      },
      "execution_count": 39,
      "outputs": [
        {
          "output_type": "execute_result",
          "data": {
            "text/plain": [
              "(tensor([0.2837, 0.6567, 0.2388, 0.7313, 0.6012, 0.3043, 0.2548, 0.6294, 0.9665,\n",
              "         0.7399]), torch.Size([10]))"
            ]
          },
          "metadata": {},
          "execution_count": 39
        }
      ]
    },
    {
      "cell_type": "code",
      "source": [
        "#  Set the seed to 7 when you create it and print out the first tensor and it's shape \n",
        "# as well as the second tensor and it's shape.\n",
        "\n",
        "# set seed\n",
        "random_seed = 7\n",
        "\n",
        "# create random tensor\n",
        "torch.manual_seed(random_seed)\n",
        "tensor = torch.rand(1,1,1,10)\n",
        "print(tensor) \n",
        "print(tensor.shape)\n",
        "\n",
        "print(\"\\n\")\n",
        "\n",
        "# remove 1 dimensions\n",
        "squeezed_tensor = tensor.squeeze()\n",
        "print(squeezed_tensor)\n",
        "print(squeezed_tensor.shape)"
      ],
      "metadata": {
        "colab": {
          "base_uri": "https://localhost:8080/"
        },
        "id": "Hvbfa1GK-Ttv",
        "outputId": "75b09fab-8f74-4e10-e9ba-0b062714e11b"
      },
      "execution_count": 42,
      "outputs": [
        {
          "output_type": "stream",
          "name": "stdout",
          "text": [
            "tensor([[[[0.5349, 0.1988, 0.6592, 0.6569, 0.2328, 0.4251, 0.2071, 0.6297,\n",
            "           0.3653, 0.8513]]]])\n",
            "torch.Size([1, 1, 1, 10])\n",
            "\n",
            "\n",
            "tensor([0.5349, 0.1988, 0.6592, 0.6569, 0.2328, 0.4251, 0.2071, 0.6297, 0.3653,\n",
            "        0.8513])\n",
            "torch.Size([10])\n"
          ]
        }
      ]
    },
    {
      "cell_type": "code",
      "source": [],
      "metadata": {
        "id": "goz-QLyl_HrX"
      },
      "execution_count": null,
      "outputs": []
    }
  ]
}