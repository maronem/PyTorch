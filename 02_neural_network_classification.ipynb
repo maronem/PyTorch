{
  "nbformat": 4,
  "nbformat_minor": 0,
  "metadata": {
    "colab": {
      "provenance": [],
      "authorship_tag": "ABX9TyNYgwFlmcDhI5WgBm1ArtAN",
      "include_colab_link": true
    },
    "kernelspec": {
      "name": "python3",
      "display_name": "Python 3"
    },
    "language_info": {
      "name": "python"
    },
    "accelerator": "GPU",
    "gpuClass": "standard"
  },
  "cells": [
    {
      "cell_type": "markdown",
      "metadata": {
        "id": "view-in-github",
        "colab_type": "text"
      },
      "source": [
        "<a href=\"https://colab.research.google.com/github/maronem/PyTorch/blob/main/02_neural_network_classification.ipynb\" target=\"_parent\"><img src=\"https://colab.research.google.com/assets/colab-badge.svg\" alt=\"Open In Colab\"/></a>"
      ]
    },
    {
      "cell_type": "markdown",
      "source": [
        "# 02. Neural network classification with PyTorch\n",
        "\n",
        "Classification is problem of predicting whether something is one thing or another\n",
        "\n",
        "Book version of this notebook: https://www.learnpytorch.io/02_pytorch_classification/\n",
        "\n",
        "Other toy datasets from Scikit: https://scikit-learn.org/stable/datasets/toy_dataset.html\n"
      ],
      "metadata": {
        "id": "k1Coe95GDkbm"
      }
    },
    {
      "cell_type": "markdown",
      "source": [
        "## 1. Make classification data and get it ready"
      ],
      "metadata": {
        "id": "ypyDrJVREC-c"
      }
    },
    {
      "cell_type": "code",
      "source": [
        "import sklearn\n",
        "from sklearn.datasets import make_circles"
      ],
      "metadata": {
        "id": "_HQrZ6b0EPL_"
      },
      "execution_count": 1,
      "outputs": []
    },
    {
      "cell_type": "code",
      "source": [
        "# make 1000 samples\n",
        "n_samples = 1000\n",
        "\n",
        "#Create circles\n",
        "X, y = make_circles(n_samples,\n",
        "                    noise=0.03,\n",
        "                    random_state=42)\n",
        "\n",
        "len(X), len(y)"
      ],
      "metadata": {
        "colab": {
          "base_uri": "https://localhost:8080/"
        },
        "id": "SPXvmejoEV8-",
        "outputId": "7407ddbb-8524-43a2-8ba3-e22434a5710f"
      },
      "execution_count": 2,
      "outputs": [
        {
          "output_type": "execute_result",
          "data": {
            "text/plain": [
              "(1000, 1000)"
            ]
          },
          "metadata": {},
          "execution_count": 2
        }
      ]
    },
    {
      "cell_type": "code",
      "source": [
        "print(f\"First 5 samples of X: {X[:5]}\")\n",
        "print(\"\\n\")\n",
        "print(f\"First 5 samples of y: {y[:5]}\")"
      ],
      "metadata": {
        "colab": {
          "base_uri": "https://localhost:8080/"
        },
        "id": "2uxurgxVEjy1",
        "outputId": "788b533a-087f-421c-f4f4-c99202c127a0"
      },
      "execution_count": 3,
      "outputs": [
        {
          "output_type": "stream",
          "name": "stdout",
          "text": [
            "First 5 samples of X: [[ 0.75424625  0.23148074]\n",
            " [-0.75615888  0.15325888]\n",
            " [-0.81539193  0.17328203]\n",
            " [-0.39373073  0.69288277]\n",
            " [ 0.44220765 -0.89672343]]\n",
            "\n",
            "\n",
            "First 5 samples of y: [1 1 1 1 0]\n"
          ]
        }
      ]
    },
    {
      "cell_type": "code",
      "source": [
        "import pandas as pd\n",
        "\n",
        "# Turn data into dataframe\n",
        "circles = pd.DataFrame({\"X1\": X[:,0], \n",
        "                         \"X2\": X[:,1],\n",
        "                         \"label\": y})\n",
        "circles.head(10)"
      ],
      "metadata": {
        "colab": {
          "base_uri": "https://localhost:8080/",
          "height": 363
        },
        "id": "SH_Sn959ElEc",
        "outputId": "4221b4e2-d148-4b30-c379-1e97f77fac5f"
      },
      "execution_count": 4,
      "outputs": [
        {
          "output_type": "execute_result",
          "data": {
            "text/plain": [
              "         X1        X2  label\n",
              "0  0.754246  0.231481      1\n",
              "1 -0.756159  0.153259      1\n",
              "2 -0.815392  0.173282      1\n",
              "3 -0.393731  0.692883      1\n",
              "4  0.442208 -0.896723      0\n",
              "5 -0.479646  0.676435      1\n",
              "6 -0.013648  0.803349      1\n",
              "7  0.771513  0.147760      1\n",
              "8 -0.169322 -0.793456      1\n",
              "9 -0.121486  1.021509      0"
            ],
            "text/html": [
              "\n",
              "  <div id=\"df-0c17471e-eead-4432-b493-24081b428300\">\n",
              "    <div class=\"colab-df-container\">\n",
              "      <div>\n",
              "<style scoped>\n",
              "    .dataframe tbody tr th:only-of-type {\n",
              "        vertical-align: middle;\n",
              "    }\n",
              "\n",
              "    .dataframe tbody tr th {\n",
              "        vertical-align: top;\n",
              "    }\n",
              "\n",
              "    .dataframe thead th {\n",
              "        text-align: right;\n",
              "    }\n",
              "</style>\n",
              "<table border=\"1\" class=\"dataframe\">\n",
              "  <thead>\n",
              "    <tr style=\"text-align: right;\">\n",
              "      <th></th>\n",
              "      <th>X1</th>\n",
              "      <th>X2</th>\n",
              "      <th>label</th>\n",
              "    </tr>\n",
              "  </thead>\n",
              "  <tbody>\n",
              "    <tr>\n",
              "      <th>0</th>\n",
              "      <td>0.754246</td>\n",
              "      <td>0.231481</td>\n",
              "      <td>1</td>\n",
              "    </tr>\n",
              "    <tr>\n",
              "      <th>1</th>\n",
              "      <td>-0.756159</td>\n",
              "      <td>0.153259</td>\n",
              "      <td>1</td>\n",
              "    </tr>\n",
              "    <tr>\n",
              "      <th>2</th>\n",
              "      <td>-0.815392</td>\n",
              "      <td>0.173282</td>\n",
              "      <td>1</td>\n",
              "    </tr>\n",
              "    <tr>\n",
              "      <th>3</th>\n",
              "      <td>-0.393731</td>\n",
              "      <td>0.692883</td>\n",
              "      <td>1</td>\n",
              "    </tr>\n",
              "    <tr>\n",
              "      <th>4</th>\n",
              "      <td>0.442208</td>\n",
              "      <td>-0.896723</td>\n",
              "      <td>0</td>\n",
              "    </tr>\n",
              "    <tr>\n",
              "      <th>5</th>\n",
              "      <td>-0.479646</td>\n",
              "      <td>0.676435</td>\n",
              "      <td>1</td>\n",
              "    </tr>\n",
              "    <tr>\n",
              "      <th>6</th>\n",
              "      <td>-0.013648</td>\n",
              "      <td>0.803349</td>\n",
              "      <td>1</td>\n",
              "    </tr>\n",
              "    <tr>\n",
              "      <th>7</th>\n",
              "      <td>0.771513</td>\n",
              "      <td>0.147760</td>\n",
              "      <td>1</td>\n",
              "    </tr>\n",
              "    <tr>\n",
              "      <th>8</th>\n",
              "      <td>-0.169322</td>\n",
              "      <td>-0.793456</td>\n",
              "      <td>1</td>\n",
              "    </tr>\n",
              "    <tr>\n",
              "      <th>9</th>\n",
              "      <td>-0.121486</td>\n",
              "      <td>1.021509</td>\n",
              "      <td>0</td>\n",
              "    </tr>\n",
              "  </tbody>\n",
              "</table>\n",
              "</div>\n",
              "      <button class=\"colab-df-convert\" onclick=\"convertToInteractive('df-0c17471e-eead-4432-b493-24081b428300')\"\n",
              "              title=\"Convert this dataframe to an interactive table.\"\n",
              "              style=\"display:none;\">\n",
              "        \n",
              "  <svg xmlns=\"http://www.w3.org/2000/svg\" height=\"24px\"viewBox=\"0 0 24 24\"\n",
              "       width=\"24px\">\n",
              "    <path d=\"M0 0h24v24H0V0z\" fill=\"none\"/>\n",
              "    <path d=\"M18.56 5.44l.94 2.06.94-2.06 2.06-.94-2.06-.94-.94-2.06-.94 2.06-2.06.94zm-11 1L8.5 8.5l.94-2.06 2.06-.94-2.06-.94L8.5 2.5l-.94 2.06-2.06.94zm10 10l.94 2.06.94-2.06 2.06-.94-2.06-.94-.94-2.06-.94 2.06-2.06.94z\"/><path d=\"M17.41 7.96l-1.37-1.37c-.4-.4-.92-.59-1.43-.59-.52 0-1.04.2-1.43.59L10.3 9.45l-7.72 7.72c-.78.78-.78 2.05 0 2.83L4 21.41c.39.39.9.59 1.41.59.51 0 1.02-.2 1.41-.59l7.78-7.78 2.81-2.81c.8-.78.8-2.07 0-2.86zM5.41 20L4 18.59l7.72-7.72 1.47 1.35L5.41 20z\"/>\n",
              "  </svg>\n",
              "      </button>\n",
              "      \n",
              "  <style>\n",
              "    .colab-df-container {\n",
              "      display:flex;\n",
              "      flex-wrap:wrap;\n",
              "      gap: 12px;\n",
              "    }\n",
              "\n",
              "    .colab-df-convert {\n",
              "      background-color: #E8F0FE;\n",
              "      border: none;\n",
              "      border-radius: 50%;\n",
              "      cursor: pointer;\n",
              "      display: none;\n",
              "      fill: #1967D2;\n",
              "      height: 32px;\n",
              "      padding: 0 0 0 0;\n",
              "      width: 32px;\n",
              "    }\n",
              "\n",
              "    .colab-df-convert:hover {\n",
              "      background-color: #E2EBFA;\n",
              "      box-shadow: 0px 1px 2px rgba(60, 64, 67, 0.3), 0px 1px 3px 1px rgba(60, 64, 67, 0.15);\n",
              "      fill: #174EA6;\n",
              "    }\n",
              "\n",
              "    [theme=dark] .colab-df-convert {\n",
              "      background-color: #3B4455;\n",
              "      fill: #D2E3FC;\n",
              "    }\n",
              "\n",
              "    [theme=dark] .colab-df-convert:hover {\n",
              "      background-color: #434B5C;\n",
              "      box-shadow: 0px 1px 3px 1px rgba(0, 0, 0, 0.15);\n",
              "      filter: drop-shadow(0px 1px 2px rgba(0, 0, 0, 0.3));\n",
              "      fill: #FFFFFF;\n",
              "    }\n",
              "  </style>\n",
              "\n",
              "      <script>\n",
              "        const buttonEl =\n",
              "          document.querySelector('#df-0c17471e-eead-4432-b493-24081b428300 button.colab-df-convert');\n",
              "        buttonEl.style.display =\n",
              "          google.colab.kernel.accessAllowed ? 'block' : 'none';\n",
              "\n",
              "        async function convertToInteractive(key) {\n",
              "          const element = document.querySelector('#df-0c17471e-eead-4432-b493-24081b428300');\n",
              "          const dataTable =\n",
              "            await google.colab.kernel.invokeFunction('convertToInteractive',\n",
              "                                                     [key], {});\n",
              "          if (!dataTable) return;\n",
              "\n",
              "          const docLinkHtml = 'Like what you see? Visit the ' +\n",
              "            '<a target=\"_blank\" href=https://colab.research.google.com/notebooks/data_table.ipynb>data table notebook</a>'\n",
              "            + ' to learn more about interactive tables.';\n",
              "          element.innerHTML = '';\n",
              "          dataTable['output_type'] = 'display_data';\n",
              "          await google.colab.output.renderOutput(dataTable, element);\n",
              "          const docLink = document.createElement('div');\n",
              "          docLink.innerHTML = docLinkHtml;\n",
              "          element.appendChild(docLink);\n",
              "        }\n",
              "      </script>\n",
              "    </div>\n",
              "  </div>\n",
              "  "
            ]
          },
          "metadata": {},
          "execution_count": 4
        }
      ]
    },
    {
      "cell_type": "code",
      "source": [
        "# Visualize data\n",
        "import matplotlib.pyplot as plt\n",
        "\n",
        "plt.scatter(X[:,0],\n",
        "            X[:,1],\n",
        "            c=y,\n",
        "            cmap=plt.cm.RdYlBu);"
      ],
      "metadata": {
        "colab": {
          "base_uri": "https://localhost:8080/",
          "height": 265
        },
        "id": "jGPGME-BFAiV",
        "outputId": "f80639b9-f8b8-4a29-acb7-e2e07104dcf6"
      },
      "execution_count": 5,
      "outputs": [
        {
          "output_type": "display_data",
          "data": {
            "text/plain": [
              "<Figure size 432x288 with 1 Axes>"
            ],
            "image/png": "[encoded data removed]"
          },
          "metadata": {
            "needs_background": "light"
          }
        }
      ]
    },
    {
      "cell_type": "markdown",
      "source": [
        "## 1.1 Check input and output shapes"
      ],
      "metadata": {
        "id": "_I_saWcbFmUz"
      }
    },
    {
      "cell_type": "code",
      "source": [
        "X.shape, y.shape #data is in shape of numpy arrays"
      ],
      "metadata": {
        "colab": {
          "base_uri": "https://localhost:8080/"
        },
        "id": "G0C0kDQHFmSL",
        "outputId": "59407d41-c2a8-4c0f-a151-7d9c097379cb"
      },
      "execution_count": 6,
      "outputs": [
        {
          "output_type": "execute_result",
          "data": {
            "text/plain": [
              "((1000, 2), (1000,))"
            ]
          },
          "metadata": {},
          "execution_count": 6
        }
      ]
    },
    {
      "cell_type": "code",
      "source": [
        "# View the first examples of features and samples\n",
        "X_sample = X[0]\n",
        "y_sample = y[0]\n",
        "\n",
        "print(f\"Values for one sample of X: {X_sample} and same for y: {y_sample}\")\n",
        "print(f\"Shape for one sample of X: {X_sample.shape} and same for y: {y_sample.shape}\")"
      ],
      "metadata": {
        "colab": {
          "base_uri": "https://localhost:8080/"
        },
        "id": "XRSv41zEFmPu",
        "outputId": "4733a6dd-2449-4be1-9191-6905bf955566"
      },
      "execution_count": 7,
      "outputs": [
        {
          "output_type": "stream",
          "name": "stdout",
          "text": [
            "Values for one sample of X: [0.75424625 0.23148074] and same for y: 1\n",
            "Shape for one sample of X: (2,) and same for y: ()\n"
          ]
        }
      ]
    },
    {
      "cell_type": "markdown",
      "source": [
        "## 1.2 Turn data into Tensors and create train/test splits"
      ],
      "metadata": {
        "id": "TQtnksjrFmNc"
      }
    },
    {
      "cell_type": "code",
      "source": [
        "import torch\n",
        "torch.__version__"
      ],
      "metadata": {
        "colab": {
          "base_uri": "https://localhost:8080/",
          "height": 35
        },
        "id": "rGgU1FW6Hd9u",
        "outputId": "489e79ad-f6e3-4e94-ee9a-f2ad59e7cf01"
      },
      "execution_count": 8,
      "outputs": [
        {
          "output_type": "execute_result",
          "data": {
            "text/plain": [
              "'1.13.1+cu116'"
            ],
            "application/vnd.google.colaboratory.intrinsic+json": {
              "type": "string"
            }
          },
          "metadata": {},
          "execution_count": 8
        }
      ]
    },
    {
      "cell_type": "code",
      "source": [
        "type(X), X.dtype"
      ],
      "metadata": {
        "colab": {
          "base_uri": "https://localhost:8080/"
        },
        "id": "l6JUwWwQH3yH",
        "outputId": "9d7bf607-36b6-4ec8-97c8-6afedbf8ad0f"
      },
      "execution_count": 9,
      "outputs": [
        {
          "output_type": "execute_result",
          "data": {
            "text/plain": [
              "(numpy.ndarray, dtype('float64'))"
            ]
          },
          "metadata": {},
          "execution_count": 9
        }
      ]
    },
    {
      "cell_type": "code",
      "source": [
        "# Turn data into tensors\n",
        "X = torch.from_numpy(X).type(torch.float32)\n",
        "y = torch.from_numpy(y).type(torch.float32)"
      ],
      "metadata": {
        "id": "VNSdbtF0Hd7L"
      },
      "execution_count": 10,
      "outputs": []
    },
    {
      "cell_type": "code",
      "source": [
        "X[:5], y[:5]"
      ],
      "metadata": {
        "colab": {
          "base_uri": "https://localhost:8080/"
        },
        "id": "NTzbPytTHd49",
        "outputId": "2e482bba-fb49-463c-dedb-d30100f7545d"
      },
      "execution_count": 11,
      "outputs": [
        {
          "output_type": "execute_result",
          "data": {
            "text/plain": [
              "(tensor([[ 0.7542,  0.2315],\n",
              "         [-0.7562,  0.1533],\n",
              "         [-0.8154,  0.1733],\n",
              "         [-0.3937,  0.6929],\n",
              "         [ 0.4422, -0.8967]]), tensor([1., 1., 1., 1., 0.]))"
            ]
          },
          "metadata": {},
          "execution_count": 11
        }
      ]
    },
    {
      "cell_type": "code",
      "source": [
        "# Split data into training/test sets\n",
        "from sklearn.model_selection import train_test_split\n",
        "\n",
        "X_train, X_test, y_train, y_test = train_test_split(X,\n",
        "                                                    y,\n",
        "                                                    test_size=0.2,\n",
        "                                                    random_state=42)"
      ],
      "metadata": {
        "id": "8xcKDuHGHd2x"
      },
      "execution_count": 12,
      "outputs": []
    },
    {
      "cell_type": "code",
      "source": [
        "len(X_train), len(X_test), len(y_train), len(y_test)"
      ],
      "metadata": {
        "colab": {
          "base_uri": "https://localhost:8080/"
        },
        "id": "8G7J8bxKHd0d",
        "outputId": "0dc74193-d959-4e34-acce-63bf772949b1"
      },
      "execution_count": 13,
      "outputs": [
        {
          "output_type": "execute_result",
          "data": {
            "text/plain": [
              "(800, 200, 800, 200)"
            ]
          },
          "metadata": {},
          "execution_count": 13
        }
      ]
    },
    {
      "cell_type": "markdown",
      "source": [
        "## 2. Building a model\n",
        "\n",
        "Let's build a model to classify our blue and red dots\n",
        "\n",
        "To Do so, we want to:\n",
        "1. Setup device agnostic code so our code will run on an accelerator (GPU) if there is one\n",
        "2. Construct a model (by subclassing `nn.Module`)\n",
        "3. Define loss function and optimizer\n",
        "4. Create a training and test loop"
      ],
      "metadata": {
        "id": "oZP_y9lcJIpq"
      }
    },
    {
      "cell_type": "code",
      "source": [
        "# Import PyTorch and nn\n",
        "import torch\n",
        "from torch import nn\n",
        "\n",
        "# Make device agnostic code\n",
        "device = 'cuda' if torch.cuda.is_available() else 'cpu'\n",
        "device"
      ],
      "metadata": {
        "colab": {
          "base_uri": "https://localhost:8080/",
          "height": 35
        },
        "id": "gPIYWhobRSYF",
        "outputId": "6d5a64a2-0f9f-4073-c7dc-7e2debccf20c"
      },
      "execution_count": 14,
      "outputs": [
        {
          "output_type": "execute_result",
          "data": {
            "text/plain": [
              "'cuda'"
            ],
            "application/vnd.google.colaboratory.intrinsic+json": {
              "type": "string"
            }
          },
          "metadata": {},
          "execution_count": 14
        }
      ]
    },
    {
      "cell_type": "code",
      "source": [
        "X_train"
      ],
      "metadata": {
        "colab": {
          "base_uri": "https://localhost:8080/"
        },
        "id": "cymHMxylRSF_",
        "outputId": "bbbef898-3a4c-4802-94c2-875f4d49a342"
      },
      "execution_count": 15,
      "outputs": [
        {
          "output_type": "execute_result",
          "data": {
            "text/plain": [
              "tensor([[ 0.6579, -0.4651],\n",
              "        [ 0.6319, -0.7347],\n",
              "        [-1.0086, -0.1240],\n",
              "        ...,\n",
              "        [ 0.0157, -1.0300],\n",
              "        [ 1.0110,  0.1680],\n",
              "        [ 0.5578, -0.5709]])"
            ]
          },
          "metadata": {},
          "execution_count": 15
        }
      ]
    },
    {
      "cell_type": "markdown",
      "source": [
        "Now we've set up device agnostic code, let's create a model that:\n",
        "\n",
        "1. Subclass `nn.Module` (almost all models in PyTorch subclass `nn.Module`)\n",
        "2. Create two `nn.Linear` layers that are capable of handling the shapes of our data\n",
        "3. Define a 'forward()` method that outlines the forward pass of the model\n",
        "4. Instantiate an instance of our model class and send it to the target `device`\n",
        "\n",
        "`nn.Linear()` applies the fn: `y=xA^T+b` = (input * weightTensor(transposed) + bias)"
      ],
      "metadata": {
        "id": "R35ov5uZR3He"
      }
    },
    {
      "cell_type": "code",
      "source": [
        "X_train.shape"
      ],
      "metadata": {
        "colab": {
          "base_uri": "https://localhost:8080/"
        },
        "id": "5EXglDqnSm9B",
        "outputId": "cff1710d-3818-49e2-e699-47ada2932682"
      },
      "execution_count": 16,
      "outputs": [
        {
          "output_type": "execute_result",
          "data": {
            "text/plain": [
              "torch.Size([800, 2])"
            ]
          },
          "metadata": {},
          "execution_count": 16
        }
      ]
    },
    {
      "cell_type": "code",
      "source": [
        "# 1. Construct a model that subclasses nn.Module\n",
        "class CircleModelV0(nn.Module):\n",
        "  def __init__(self):\n",
        "    super().__init__()\n",
        "\n",
        "    # 2. Create two nn.Linear layers capable of handling the shapes of our data\n",
        "    self.layer_1 = nn.Linear(in_features=2,\n",
        "                             out_features=5, #takes 2 features and upscales to 5\n",
        "                             device=device)\n",
        "    self.layer_2 = nn.Linear(in_features=5, #in_features of a subsequent layer must match the out_features of the previous layer\n",
        "                             out_features=1,\n",
        "                             device=device) \n",
        "    \n",
        "    # 3. Define a forward method that outlines the forward pass\n",
        "  def forward(self, x):\n",
        "    return self.layer_2(self.layer_1(X)) # x-> layer_1 -> layer_2 -> output\n",
        "\n",
        "# 4. Instantiate instance of our model class and send it to target device\n",
        "model_0 = CircleModelV0().to(device)\n",
        "model_0"
      ],
      "metadata": {
        "colab": {
          "base_uri": "https://localhost:8080/"
        },
        "id": "cUiCFaz9RSDK",
        "outputId": "45f3511b-571a-4c0f-f2c3-9f1a72355d1e"
      },
      "execution_count": 17,
      "outputs": [
        {
          "output_type": "execute_result",
          "data": {
            "text/plain": [
              "CircleModelV0(\n",
              "  (layer_1): Linear(in_features=2, out_features=5, bias=True)\n",
              "  (layer_2): Linear(in_features=5, out_features=1, bias=True)\n",
              ")"
            ]
          },
          "metadata": {},
          "execution_count": 17
        }
      ]
    },
    {
      "cell_type": "code",
      "source": [
        "next(model_0.parameters()).device"
      ],
      "metadata": {
        "colab": {
          "base_uri": "https://localhost:8080/"
        },
        "id": "jK-NwwyDRSAw",
        "outputId": "c7af3995-a1cc-4d6c-8187-dec06b3f315a"
      },
      "execution_count": 18,
      "outputs": [
        {
          "output_type": "execute_result",
          "data": {
            "text/plain": [
              "device(type='cuda', index=0)"
            ]
          },
          "metadata": {},
          "execution_count": 18
        }
      ]
    },
    {
      "cell_type": "code",
      "source": [
        "# Let's replicate the model above by using nn.Sequential()\n",
        "\n",
        "model_0 = nn.Sequential(\n",
        "    nn.Linear(in_features=2, out_features=5),\n",
        "    nn.Linear(in_features=5, out_features=1)\n",
        ").to(device)\n",
        "\n",
        "model_0\n",
        "\n",
        "# Could replace code in step 2 in our CircleModelV0 class with the code in this cell "
      ],
      "metadata": {
        "colab": {
          "base_uri": "https://localhost:8080/"
        },
        "id": "ROulUqbfVpgl",
        "outputId": "596a3f57-4815-4078-b64d-e5bbf0a4c3dd"
      },
      "execution_count": 19,
      "outputs": [
        {
          "output_type": "execute_result",
          "data": {
            "text/plain": [
              "Sequential(\n",
              "  (0): Linear(in_features=2, out_features=5, bias=True)\n",
              "  (1): Linear(in_features=5, out_features=1, bias=True)\n",
              ")"
            ]
          },
          "metadata": {},
          "execution_count": 19
        }
      ]
    },
    {
      "cell_type": "code",
      "source": [
        "model_0.state_dict()"
      ],
      "metadata": {
        "colab": {
          "base_uri": "https://localhost:8080/"
        },
        "id": "3SnLqJ-vYi_k",
        "outputId": "0ea6696c-306a-4bd6-86b3-e3806b005348"
      },
      "execution_count": 20,
      "outputs": [
        {
          "output_type": "execute_result",
          "data": {
            "text/plain": [
              "OrderedDict([('0.weight', tensor([[ 0.0531, -0.3507],\n",
              "                      [ 0.2055, -0.6390],\n",
              "                      [-0.4677,  0.3461],\n",
              "                      [ 0.7053,  0.0764],\n",
              "                      [-0.3474, -0.4389]], device='cuda:0')),\n",
              "             ('0.bias',\n",
              "              tensor([ 0.0767,  0.2621,  0.5497,  0.3287, -0.5415], device='cuda:0')),\n",
              "             ('1.weight',\n",
              "              tensor([[ 0.3677, -0.0384, -0.1106, -0.0016, -0.1482]], device='cuda:0')),\n",
              "             ('1.bias', tensor([0.2581], device='cuda:0'))])"
            ]
          },
          "metadata": {},
          "execution_count": 20
        }
      ]
    },
    {
      "cell_type": "code",
      "source": [
        "# Make some predictions with untrained model\n",
        "\n",
        "with torch.inference_mode():\n",
        "  untrained_preds = model_0(X_test.to(device))\n",
        "print(f\"Length of predictions: {len(untrained_preds)}, Shape: {untrained_preds.shape}\")\n",
        "print(f\"Length of test samples: {len(X_test)}, Shape: {X_test.shape}\")\n",
        "print(\"\\n\")\n",
        "print(f\"First 10 predictions: {torch.round(untrained_preds[:10])}\")\n",
        "print(f\"First 10 labels: {y_test[:10]}\")\n",
        "print(f\"Length of test labels: {len(y_test)}, Shape: {y_test.shape}\")"
      ],
      "metadata": {
        "colab": {
          "base_uri": "https://localhost:8080/"
        },
        "id": "m0JOS3VNXw9u",
        "outputId": "636716d0-007f-48b7-9770-132383a18edc"
      },
      "execution_count": 21,
      "outputs": [
        {
          "output_type": "stream",
          "name": "stdout",
          "text": [
            "Length of predictions: 200, Shape: torch.Size([200, 1])\n",
            "Length of test samples: 200, Shape: torch.Size([200, 2])\n",
            "\n",
            "\n",
            "First 10 predictions: tensor([[0.],\n",
            "        [0.],\n",
            "        [0.],\n",
            "        [0.],\n",
            "        [0.],\n",
            "        [0.],\n",
            "        [0.],\n",
            "        [0.],\n",
            "        [0.],\n",
            "        [0.]], device='cuda:0')\n",
            "First 10 labels: tensor([1., 0., 1., 0., 1., 1., 0., 0., 1., 0.])\n",
            "Length of test labels: 200, Shape: torch.Size([200])\n"
          ]
        }
      ]
    },
    {
      "cell_type": "markdown",
      "source": [
        "### Setup loss function & optimizer\n",
        "\n",
        "Which loss and optimizer should we use? Again.. this is problem specific\n",
        "\n",
        "For regression you may want MAE or MSE (mean absolute or mean squared error)\n",
        "\n",
        "For classification you may want binary crossentropy or categorical crossentropy such as `nn.L1Loss`, `nn.BCELoss`\n",
        "\n",
        "As for optimizers, torch.optim has many built in options such as `optim.SGD` and `optim.Adam`\n",
        "\n",
        " * For our loss function we are goint to use `torch.nn.BCEWithLogitsLoss()` \n"
      ],
      "metadata": {
        "id": "YMKH5XK-ZWRV"
      }
    },
    {
      "cell_type": "code",
      "source": [
        "model_0.state_dict()"
      ],
      "metadata": {
        "colab": {
          "base_uri": "https://localhost:8080/"
        },
        "id": "sehwcxFNqEJU",
        "outputId": "12b39548-2043-4cb4-ca03-885ddca0f602"
      },
      "execution_count": 22,
      "outputs": [
        {
          "output_type": "execute_result",
          "data": {
            "text/plain": [
              "OrderedDict([('0.weight', tensor([[ 0.0531, -0.3507],\n",
              "                      [ 0.2055, -0.6390],\n",
              "                      [-0.4677,  0.3461],\n",
              "                      [ 0.7053,  0.0764],\n",
              "                      [-0.3474, -0.4389]], device='cuda:0')),\n",
              "             ('0.bias',\n",
              "              tensor([ 0.0767,  0.2621,  0.5497,  0.3287, -0.5415], device='cuda:0')),\n",
              "             ('1.weight',\n",
              "              tensor([[ 0.3677, -0.0384, -0.1106, -0.0016, -0.1482]], device='cuda:0')),\n",
              "             ('1.bias', tensor([0.2581], device='cuda:0'))])"
            ]
          },
          "metadata": {},
          "execution_count": 22
        }
      ]
    },
    {
      "cell_type": "code",
      "source": [
        "# Setup the loss funciton & optimizer\n",
        "\n",
        "# nn.BCELoss() requires inputs to have gone through sigmoid acitvation function prior to input into BCE\n",
        "loss_fn = nn.BCEWithLogitsLoss() # has the sigmoid activation function built in\n",
        "\n",
        "optimizer = torch.optim.SGD(params = model_0.parameters(),\n",
        "                            lr = 0.1) # lr = amount optimizer will adjust parameters with each epoch"
      ],
      "metadata": {
        "id": "jQV5iRvKllPs"
      },
      "execution_count": 23,
      "outputs": []
    },
    {
      "cell_type": "code",
      "source": [
        "# Calculate accuracy - out of 100 examples, what %age does our model get right?\n",
        "\n",
        "def accuracy_fn(y_true, y_pred):\n",
        "  correct = torch.eq(y_true, y_pred).sum().item() #torch.eq() calculates how many of arg1 == arg2\n",
        "  acc = (correct/len(y_pred)) * 100\n",
        "  return acc "
      ],
      "metadata": {
        "id": "epqp_9_PllNS"
      },
      "execution_count": 24,
      "outputs": []
    },
    {
      "cell_type": "markdown",
      "source": [
        "## 3. Training a model\n",
        "\n",
        "To train our model we are going to need to build a training loop\n",
        "\n",
        "1. Forward pass through our model `model(X_train)`\n",
        "2. Calculate the loss `loss_fn()`\n",
        "3. Set optimizer gradients to zero `zero_grad()`\n",
        "4. Perform backpropagation on loss `.backward()`\n",
        "5. Step the optimizer (gradient descent) `optimizer.step()`"
      ],
      "metadata": {
        "id": "n4Wh8R_mllK2"
      }
    },
    {
      "cell_type": "markdown",
      "source": [
        "### 3.1 Going from raw predictions (logits) -> Prediction Probabilities -> Prediction Labels\n",
        "\n",
        "Our model outputs are going to be raw **logits**\n",
        "\n",
        "We can convert these **logits** into prediction probabilities by passing them into an activation function (eg. `sigmoid` for binary classification and `softmax` for multiclass classification)\n",
        "\n",
        "Then we can convert our model's prediction probabilities to **prediction labels** by either roudning them or taking the argmax()."
      ],
      "metadata": {
        "id": "SYRdBi1HllIa"
      }
    },
    {
      "cell_type": "code",
      "source": [
        "# View first 5 raw outputs of forward pass on the test data\n",
        " \n",
        "with torch.inference_mode():  \n",
        "  y_logits = model_0(X_test.to(device))[:5]\n",
        "y_logits"
      ],
      "metadata": {
        "colab": {
          "base_uri": "https://localhost:8080/"
        },
        "id": "sEDFSwZdgzsu",
        "outputId": "4392e289-344a-4aa0-e827-fe8d77c4ebb7"
      },
      "execution_count": 25,
      "outputs": [
        {
          "output_type": "execute_result",
          "data": {
            "text/plain": [
              "tensor([[0.1994],\n",
              "        [0.2222],\n",
              "        [0.2397],\n",
              "        [0.1875],\n",
              "        [0.3987]], device='cuda:0')"
            ]
          },
          "metadata": {},
          "execution_count": 25
        }
      ]
    },
    {
      "cell_type": "code",
      "source": [
        "y_test[:5]"
      ],
      "metadata": {
        "colab": {
          "base_uri": "https://localhost:8080/"
        },
        "id": "y82GKzesg1_n",
        "outputId": "f457c1aa-cc4b-4c56-ec33-b4e5c23e2103"
      },
      "execution_count": 26,
      "outputs": [
        {
          "output_type": "execute_result",
          "data": {
            "text/plain": [
              "tensor([1., 0., 1., 0., 1.])"
            ]
          },
          "metadata": {},
          "execution_count": 26
        }
      ]
    },
    {
      "cell_type": "markdown",
      "source": [
        "We need our logits and test data in the same format"
      ],
      "metadata": {
        "id": "6-AseVMWiB6u"
      }
    },
    {
      "cell_type": "code",
      "source": [
        "# Use sigmoid activation function on our model logits to turn them into prediction probabilities\n",
        "\n",
        "y_pred_probs = torch.sigmoid(y_logits)\n",
        "y_pred_probs"
      ],
      "metadata": {
        "colab": {
          "base_uri": "https://localhost:8080/"
        },
        "id": "I1dEy7YFh9cN",
        "outputId": "85eb3a1e-a6c0-487e-b01f-51103057241c"
      },
      "execution_count": 27,
      "outputs": [
        {
          "output_type": "execute_result",
          "data": {
            "text/plain": [
              "tensor([[0.5497],\n",
              "        [0.5553],\n",
              "        [0.5596],\n",
              "        [0.5468],\n",
              "        [0.5984]], device='cuda:0')"
            ]
          },
          "metadata": {},
          "execution_count": 27
        }
      ]
    },
    {
      "cell_type": "markdown",
      "source": [
        "For our prediction probability values, we need to perform a range-style rounding on them:\n",
        "\n",
        "* `y_pred_probs` >= 0.5, `y=1` (class 1)\n",
        "* `y_pred_probs` < 0.5, `y=0` (class 0)"
      ],
      "metadata": {
        "id": "P1XZawiDifaU"
      }
    },
    {
      "cell_type": "code",
      "source": [
        "# Find the predicted labels \n",
        "y_preds = torch.round(y_pred_probs)\n",
        "\n",
        "# In full (logits -> pred probs -> pred labels)\n",
        "y_pred_labels = torch.round(torch.sigmoid(model_0(X_test.to(device))[:5]))\n",
        "\n",
        "# Check for equality\n",
        "print(torch.eq(y_preds.squeeze(), y_pred_labels.squeeze()))\n",
        "\n",
        "# Get rid of extra dimension\n",
        "y_preds.squeeze()"
      ],
      "metadata": {
        "colab": {
          "base_uri": "https://localhost:8080/"
        },
        "id": "CWyeKJHziWS9",
        "outputId": "6a021520-533e-438b-d8f8-4840d9b4ab5e"
      },
      "execution_count": 28,
      "outputs": [
        {
          "output_type": "stream",
          "name": "stdout",
          "text": [
            "tensor([True, True, True, True, True], device='cuda:0')\n"
          ]
        },
        {
          "output_type": "execute_result",
          "data": {
            "text/plain": [
              "tensor([1., 1., 1., 1., 1.], device='cuda:0')"
            ]
          },
          "metadata": {},
          "execution_count": 28
        }
      ]
    },
    {
      "cell_type": "code",
      "source": [
        "len(y_test)"
      ],
      "metadata": {
        "colab": {
          "base_uri": "https://localhost:8080/"
        },
        "id": "ThjI0fCEvQ0E",
        "outputId": "e7c77116-4a39-4ecf-bc65-47646717e5bf"
      },
      "execution_count": 29,
      "outputs": [
        {
          "output_type": "execute_result",
          "data": {
            "text/plain": [
              "200"
            ]
          },
          "metadata": {},
          "execution_count": 29
        }
      ]
    },
    {
      "cell_type": "markdown",
      "source": [
        "### 3.2 Building a training and testing loop"
      ],
      "metadata": {
        "id": "zkw4VjDnje8O"
      }
    },
    {
      "cell_type": "code",
      "source": [
        "# Set random seed on gpu\n",
        "torch.cuda.manual_seed(42)\n",
        "\n",
        "# Set num of epochs\n",
        "epochs = 100\n",
        "\n",
        "# Put data to target device\n",
        "X_train, y_train = X_train.to(device), y_train.to(device)\n",
        "X_test, y_test = X_test.to(device), y_test.to(device)\n",
        "\n",
        "# Building a training and evaluation loop\n",
        "for epoch in range(epochs):\n",
        "\n",
        "  #Put model in training mode\n",
        "  model_0.train()\n",
        "\n",
        "  # 1. Forward pass (model output raw logits)\n",
        "  y_logits = model_0(X_train).squeeze() # reduce extra `1` dimensions\n",
        "  y_pred = torch.round(torch.sigmoid(y_logits)) # turn logits (input) -> pred probs -> pred labels\n",
        "\n",
        "  # 2. Calculate the loss/accuracy\n",
        "  loss = loss_fn(y_logits, y_train) #nn.BCEWithLogitsLoss() loss_fn expects LOGITS as its input, while nn.BCELoss() expects PREDICTION PROBABILITIES as input\n",
        "  # loss = loss_fn(torch.sigmoid(y_logits), y_train) if using nn.BCELoss\n",
        "  acc = accuracy_fn(y_true=y_train,\n",
        "                    y_pred=y_pred)\n",
        "  \n",
        "  # 3. Set optimizer to zero grad\n",
        "  optimizer.zero_grad()\n",
        "\n",
        "  # 4. Perform backpropagation on loss fn\n",
        "  loss.backward()\n",
        "\n",
        "  # 5. Optimzer step - update parameters to reduce gradient (gradient descent)\n",
        "  optimizer.step()\n",
        "\n",
        "\n",
        "  ### Testing loop\n",
        "\n",
        "  # Put model in eval mode\n",
        "  model_0.eval()\n",
        "\n",
        "  with torch.inference_mode():\n",
        "\n",
        "    # 1. Forward pass\n",
        "    test_logits = model_0(X_test).squeeze()\n",
        "    test_pred = torch.round(torch.sigmoid(test_logits))\n",
        "\n",
        "    # 2. Calculate loss/accuracy\n",
        "    test_loss = loss_fn(test_logits, \n",
        "                        y_test)\n",
        "    test_acc = accuracy_fn(y_true = y_test, \n",
        "                           y_pred = test_pred)\n",
        "    \n",
        "    # Print out model status every 10 epochs\n",
        "    if epoch % 10 == 0:\n",
        "      print(f\"Epoch: {epoch} | Loss: {loss:.5f}, Accuracy: {acc:.2f}% | Test loss: {test_loss:.5f}, Test acc: {test_acc:.2f}%\")\n",
        "\n",
        "\n"
      ],
      "metadata": {
        "colab": {
          "base_uri": "https://localhost:8080/"
        },
        "id": "jRdjQe3FkObK",
        "outputId": "f86f1f60-9a75-4aed-83e3-3361e2f88bde"
      },
      "execution_count": 30,
      "outputs": [
        {
          "output_type": "stream",
          "name": "stdout",
          "text": [
            "Epoch: 0 | Loss: 0.70520, Accuracy: 50.00% | Test loss: 0.70304, Test acc: 50.00%\n",
            "Epoch: 10 | Loss: 0.69824, Accuracy: 50.00% | Test loss: 0.69661, Test acc: 50.00%\n",
            "Epoch: 20 | Loss: 0.69552, Accuracy: 50.12% | Test loss: 0.69420, Test acc: 50.50%\n",
            "Epoch: 30 | Loss: 0.69440, Accuracy: 55.12% | Test loss: 0.69331, Test acc: 60.00%\n",
            "Epoch: 40 | Loss: 0.69390, Accuracy: 52.25% | Test loss: 0.69301, Test acc: 56.00%\n",
            "Epoch: 50 | Loss: 0.69364, Accuracy: 50.75% | Test loss: 0.69295, Test acc: 54.50%\n",
            "Epoch: 60 | Loss: 0.69348, Accuracy: 50.50% | Test loss: 0.69298, Test acc: 53.50%\n",
            "Epoch: 70 | Loss: 0.69337, Accuracy: 49.88% | Test loss: 0.69306, Test acc: 54.50%\n",
            "Epoch: 80 | Loss: 0.69330, Accuracy: 49.75% | Test loss: 0.69315, Test acc: 54.00%\n",
            "Epoch: 90 | Loss: 0.69323, Accuracy: 50.00% | Test loss: 0.69325, Test acc: 52.50%\n"
          ]
        }
      ]
    },
    {
      "cell_type": "markdown",
      "source": [
        "## 4. Make predictions and evaluate the model \n",
        "\n",
        "From the metrics it looks like our model isn't learning anything... \n",
        "\n",
        "So to inspect it, lets make some predictions an dmake them visual\n",
        "\n",
        "In other words, \"visualize, visualize, visualize\"\n",
        "\n",
        "To do so: we are going to import a function called `plot_decision_bounadry()`"
      ],
      "metadata": {
        "id": "JJ6Ms0zQsFus"
      }
    },
    {
      "cell_type": "code",
      "source": [
        "import requests\n",
        "from pathlib import Path\n",
        "\n",
        "# Download helper functions from Learn PyTorch repo (if not already downloaded)\n",
        "\n",
        "if Path(\"helper_functions.py\").is_file():\n",
        "  print(\"helper_functions.py  already exists, skipping download.\")\n",
        "else:\n",
        "  print(\"Downloading helper_functions.py ...\")\n",
        "  request = requests.get(\"https://raw.githubusercontent.com/mrdbourke/pytorch-deep-learning/main/helper_functions.py\")\n",
        "  with open(\"helper_functions.py\", \"wb\") as f:\n",
        "    f.write(request.content)\n",
        "\n",
        "from helper_functions import plot_predictions, plot_decision_boundary"
      ],
      "metadata": {
        "colab": {
          "base_uri": "https://localhost:8080/"
        },
        "id": "9TGicFyWxHri",
        "outputId": "f9a9f1f4-ee7e-467c-e39b-91761e04273b"
      },
      "execution_count": 31,
      "outputs": [
        {
          "output_type": "stream",
          "name": "stdout",
          "text": [
            "Downloading helper_functions.py ...\n"
          ]
        }
      ]
    },
    {
      "cell_type": "code",
      "source": [
        "# Plot decision boundary of the model\n",
        "plt.figure(figsize=(12,6))\n",
        "plt.subplot(1,2,1)\n",
        "plt.title(\"Train\")\n",
        "plot_decision_boundary(model_0, X_train, y_train)\n",
        "\n",
        "plt.subplot(1,2,2)\n",
        "plt.title(\"Test\")\n",
        "plot_decision_boundary(model_0, X_test, y_test)"
      ],
      "metadata": {
        "colab": {
          "base_uri": "https://localhost:8080/",
          "height": 390
        },
        "id": "IzG6CQvl0F7Y",
        "outputId": "f5a2d04f-9491-43de-db5e-3cad4a194cbb"
      },
      "execution_count": 32,
      "outputs": [
        {
          "output_type": "display_data",
          "data": {
            "text/plain": [
              "<Figure size 864x432 with 2 Axes>"
            ],
            "image/png": "[encoded data removed]"
          },
          "metadata": {
            "needs_background": "light"
          }
        }
      ]
    },
    {
      "cell_type": "markdown",
      "source": [
        "More on decision boundaries: https://towardsdatascience.com/a-visual-introduction-to-neural-networks-68586b0b733b\n"
      ],
      "metadata": {
        "id": "XVTTXBe51TNX"
      }
    },
    {
      "cell_type": "markdown",
      "source": [
        "## 5. Improving a model (from a model perspective)\n",
        "\n",
        "* **Add more layers** - give model a chance to learn more about patterns in the data\n",
        "* **Add more hidden units** - go from 5 hidden units to 10 hidden units\n",
        "* **Fit for longer** (more epochs)\n",
        "* **Changing the activation functions**\n",
        "* **Change the learning rate**\n",
        "* **Change the loss fn**\n",
        "\n",
        "These optioins are all from the model's perspective as these changes all deal with the model and not the data.\n",
        "\n",
        "And because these options are all values we as ML engineers/data scientists can changes, they are referred to as *hyperparameters*\n",
        "\n",
        "Lets try and improve our model by:\n",
        "* Adding more hidden units: 5->10\n",
        "* Increase the number of layers: 2->3\n",
        "* Increase the number of epochs: 100->1000"
      ],
      "metadata": {
        "id": "ULgIhQjW0Zxp"
      }
    },
    {
      "cell_type": "code",
      "source": [
        "class CircleModelV1(nn.Module):\n",
        "  def __init__(self):\n",
        "    super().__init__()\n",
        "\n",
        "    self.layer_1 = nn.Linear(in_features=2, \n",
        "                             out_features=10)\n",
        "    self.layer_2 = nn.Linear(in_features=10,\n",
        "                             out_features=10)\n",
        "    self.layer_3 = nn.Linear(in_features=10,\n",
        "                             out_features=1)\n",
        "    \n",
        "  def forward(self, x):\n",
        "    # z = self.layer_1(x)\n",
        "    # z = self.layer_2(z)\n",
        "    # z = self.layer_3(z)\n",
        "    # return z\n",
        "    return self.layer_3(self.layer_2(self.layer_1(x))) # this way of writing operations leverages speed ups of operations behind the scenes\n",
        "\n",
        "model_1 = CircleModelV1().to(device)\n",
        "model_1\n"
      ],
      "metadata": {
        "colab": {
          "base_uri": "https://localhost:8080/"
        },
        "id": "_wRxMJMDjEUT",
        "outputId": "04999fb5-ae29-490d-bc41-e28e8c8e23f6"
      },
      "execution_count": 38,
      "outputs": [
        {
          "output_type": "execute_result",
          "data": {
            "text/plain": [
              "CircleModelV1(\n",
              "  (layer_1): Linear(in_features=2, out_features=10, bias=True)\n",
              "  (layer_2): Linear(in_features=10, out_features=10, bias=True)\n",
              "  (layer_3): Linear(in_features=10, out_features=1, bias=True)\n",
              ")"
            ]
          },
          "metadata": {},
          "execution_count": 38
        }
      ]
    },
    {
      "cell_type": "code",
      "source": [
        "model_1.state_dict()"
      ],
      "metadata": {
        "id": "dSApg4j9nVug",
        "colab": {
          "base_uri": "https://localhost:8080/"
        },
        "outputId": "48296d12-ac4d-4660-8eb4-d37dedc9ba6e"
      },
      "execution_count": 39,
      "outputs": [
        {
          "output_type": "execute_result",
          "data": {
            "text/plain": [
              "OrderedDict([('layer_1.weight', tensor([[ 0.5406,  0.5869],\n",
              "                      [-0.1657,  0.6496],\n",
              "                      [-0.1549,  0.1427],\n",
              "                      [-0.3443,  0.4153],\n",
              "                      [ 0.6233, -0.5188],\n",
              "                      [ 0.6146,  0.1323],\n",
              "                      [ 0.5224,  0.0958],\n",
              "                      [ 0.3410, -0.0998],\n",
              "                      [ 0.5451,  0.1045],\n",
              "                      [-0.3301,  0.1802]], device='cuda:0')),\n",
              "             ('layer_1.bias',\n",
              "              tensor([-0.3258, -0.0829, -0.2872,  0.4691, -0.5582, -0.3260, -0.1997, -0.4252,\n",
              "                       0.0667, -0.6984], device='cuda:0')),\n",
              "             ('layer_2.weight',\n",
              "              tensor([[ 0.2856, -0.2686,  0.2441,  0.0526, -0.1027,  0.1954,  0.0493,  0.2555,\n",
              "                        0.0346, -0.0997],\n",
              "                      [ 0.0850, -0.0858,  0.1331,  0.2823,  0.1828, -0.1382,  0.1825,  0.0566,\n",
              "                        0.1606, -0.1927],\n",
              "                      [-0.3130, -0.1222, -0.2426,  0.2595,  0.0911,  0.1310,  0.1000, -0.0055,\n",
              "                        0.2475, -0.2247],\n",
              "                      [ 0.0199, -0.2158,  0.0975, -0.1089,  0.0969, -0.0659,  0.2623, -0.1874,\n",
              "                       -0.1886, -0.1886],\n",
              "                      [ 0.2844,  0.1054,  0.3043, -0.2610, -0.3137, -0.2474, -0.2127,  0.1281,\n",
              "                        0.1132,  0.2628],\n",
              "                      [-0.1633, -0.2156,  0.1678, -0.1278,  0.1919, -0.0750,  0.1809, -0.2457,\n",
              "                       -0.1596,  0.0964],\n",
              "                      [ 0.0669, -0.0806,  0.1885,  0.2150, -0.2293, -0.1688,  0.2896, -0.1067,\n",
              "                       -0.1121, -0.3060],\n",
              "                      [-0.1811,  0.0790, -0.0417, -0.2295,  0.0074, -0.2160, -0.2683, -0.1741,\n",
              "                       -0.2768, -0.2014],\n",
              "                      [ 0.3161,  0.0597,  0.0974, -0.2949, -0.2077, -0.1053,  0.0494, -0.2783,\n",
              "                       -0.1363, -0.1893],\n",
              "                      [ 0.0009, -0.1177, -0.0219, -0.2143, -0.2171, -0.1845, -0.1082, -0.2496,\n",
              "                        0.2651, -0.0628]], device='cuda:0')),\n",
              "             ('layer_2.bias',\n",
              "              tensor([ 0.2721,  0.0985, -0.2678,  0.2188, -0.0870, -0.1212, -0.2625, -0.3144,\n",
              "                       0.0905, -0.0691], device='cuda:0')),\n",
              "             ('layer_3.weight',\n",
              "              tensor([[ 0.1231, -0.2595,  0.2348, -0.2321, -0.0546,  0.0661,  0.1633,  0.2553,\n",
              "                        0.2881, -0.2507]], device='cuda:0')),\n",
              "             ('layer_3.bias', tensor([0.0796], device='cuda:0'))])"
            ]
          },
          "metadata": {},
          "execution_count": 39
        }
      ]
    },
    {
      "cell_type": "code",
      "source": [
        "# Create a loss function\n",
        "\n",
        "loss_fn = nn.BCEWithLogitsLoss()\n",
        "\n",
        "# Create an optimizer\n",
        "\n",
        "optimizer = torch.optim.SGD(params = model_1.parameters(),\n",
        "                      lr=0.1)"
      ],
      "metadata": {
        "id": "BpTB5PTFiK7A"
      },
      "execution_count": 40,
      "outputs": []
    },
    {
      "cell_type": "code",
      "source": [
        "!nvidia-smi"
      ],
      "metadata": {
        "colab": {
          "base_uri": "https://localhost:8080/"
        },
        "id": "fNXJDV-7qrMO",
        "outputId": "8595aaea-98ba-4974-e860-8e5ef8378f78"
      },
      "execution_count": 36,
      "outputs": [
        {
          "output_type": "stream",
          "name": "stdout",
          "text": [
            "Wed Mar  8 15:25:23 2023       \n",
            "+-----------------------------------------------------------------------------+\n",
            "| NVIDIA-SMI 525.85.12    Driver Version: 525.85.12    CUDA Version: 12.0     |\n",
            "|-------------------------------+----------------------+----------------------+\n",
            "| GPU  Name        Persistence-M| Bus-Id        Disp.A | Volatile Uncorr. ECC |\n",
            "| Fan  Temp  Perf  Pwr:Usage/Cap|         Memory-Usage | GPU-Util  Compute M. |\n",
            "|                               |                      |               MIG M. |\n",
            "|===============================+======================+======================|\n",
            "|   0  Tesla T4            Off  | 00000000:00:04.0 Off |                    0 |\n",
            "| N/A   68C    P0    34W /  70W |    805MiB / 15360MiB |      0%      Default |\n",
            "|                               |                      |                  N/A |\n",
            "+-------------------------------+----------------------+----------------------+\n",
            "                                                                               \n",
            "+-----------------------------------------------------------------------------+\n",
            "| Processes:                                                                  |\n",
            "|  GPU   GI   CI        PID   Type   Process name                  GPU Memory |\n",
            "|        ID   ID                                                   Usage      |\n",
            "|=============================================================================|\n",
            "+-----------------------------------------------------------------------------+\n"
          ]
        }
      ]
    },
    {
      "cell_type": "code",
      "source": [
        "# Set random seed + on gpu\n",
        "torch.manual_seed(42)\n",
        "torch.cuda.manual_seed(42)\n",
        "\n",
        "# Set num of epochs\n",
        "epochs = 1000\n",
        "\n",
        "# Put data to target device\n",
        "X_train, y_train = X_train.to(device), y_train.to(device)\n",
        "X_test, y_test = X_test.to(device), y_test.to(device)\n",
        "\n",
        "### Build a training loop for model_1\n",
        "\n",
        "for epoch in range(epochs):\n",
        "  \n",
        "  model_1.train()\n",
        "\n",
        "  # Forward pass\n",
        "  y_logits = model_1(X_train).squeeze()\n",
        "  y_pred = torch.round(torch.sigmoid(y_logits))\n",
        "\n",
        "  # Calculate loss/accuracy\n",
        "  loss = loss_fn(y_logits, y_train)\n",
        "  acc = accuracy_fn(y_train, y_pred)\n",
        "\n",
        "  # Optimizer zero grad\n",
        "  optimizer.zero_grad()\n",
        "\n",
        "  # Backpropagation\n",
        "  loss.backward()\n",
        "\n",
        "  # Step optimizer (GD)\n",
        "  optimizer.step()\n",
        "\n",
        "### Build a testing loop for model_1\n",
        "\n",
        "  model_1.eval()\n",
        "\n",
        "  with torch.inference_mode():\n",
        "\n",
        "    # Forward pass\n",
        "    test_logits = model_1(X_test).squeeze()\n",
        "    test_pred = torch.round(torch.sigmoid(test_logits))\n",
        "\n",
        "    # Calc loss/accuracy\n",
        "    test_loss = loss_fn(test_logits, y_test)\n",
        "    test_acc = accuracy_fn(y_true = y_test, \n",
        "                           y_pred = test_pred)\n",
        "\n",
        "    # Print out model status every 10 epochs\n",
        "    if epoch % 100 == 0:\n",
        "      print(f\"Epoch: {epoch} | Loss: {loss:.5f}, Accuracy: {acc:.2f}% | Test loss: {test_loss:.5f}, Test acc: {test_acc:.2f}%\")\n"
      ],
      "metadata": {
        "colab": {
          "base_uri": "https://localhost:8080/"
        },
        "id": "2VwEzZeLnQbw",
        "outputId": "9a78bdf8-f3dd-445c-cfaa-07ddd29df536"
      },
      "execution_count": 43,
      "outputs": [
        {
          "output_type": "stream",
          "name": "stdout",
          "text": [
            "Epoch: 0 | Loss: 0.69389, Accuracy: 50.62% | Test loss: 0.69263, Test acc: 50.50%\n",
            "Epoch: 100 | Loss: 0.69304, Accuracy: 50.62% | Test loss: 0.69381, Test acc: 47.00%\n",
            "Epoch: 200 | Loss: 0.69299, Accuracy: 51.12% | Test loss: 0.69438, Test acc: 46.00%\n",
            "Epoch: 300 | Loss: 0.69298, Accuracy: 51.38% | Test loss: 0.69458, Test acc: 45.00%\n",
            "Epoch: 400 | Loss: 0.69298, Accuracy: 51.12% | Test loss: 0.69465, Test acc: 46.00%\n",
            "Epoch: 500 | Loss: 0.69298, Accuracy: 51.00% | Test loss: 0.69467, Test acc: 46.00%\n",
            "Epoch: 600 | Loss: 0.69298, Accuracy: 51.00% | Test loss: 0.69468, Test acc: 46.00%\n",
            "Epoch: 700 | Loss: 0.69298, Accuracy: 51.00% | Test loss: 0.69468, Test acc: 46.00%\n",
            "Epoch: 800 | Loss: 0.69298, Accuracy: 51.00% | Test loss: 0.69468, Test acc: 46.00%\n",
            "Epoch: 900 | Loss: 0.69298, Accuracy: 51.00% | Test loss: 0.69468, Test acc: 46.00%\n"
          ]
        }
      ]
    },
    {
      "cell_type": "code",
      "source": [
        "# Plot decision boundary for model_1\n",
        "plt.figure(figsize=(12,6))\n",
        "plt.subplot(1,2,1)\n",
        "plt.title(\"Train\")\n",
        "plot_decision_boundary(model_1, X_train, y_train)\n",
        "\n",
        "plt.subplot(1,2,2)\n",
        "plt.title(\"Test\")\n",
        "plot_decision_boundary(model_1, X_test, y_test)"
      ],
      "metadata": {
        "id": "er9HoCBdp61P",
        "colab": {
          "base_uri": "https://localhost:8080/",
          "height": 390
        },
        "outputId": "41458111-8cc4-4600-ed20-a4613108056e"
      },
      "execution_count": 44,
      "outputs": [
        {
          "output_type": "display_data",
          "data": {
            "text/plain": [
              "<Figure size 864x432 with 2 Axes>"
            ],
            "image/png": "[encoded data removed]"
          },
          "metadata": {
            "needs_background": "light"
          }
        }
      ]
    },
    {
      "cell_type": "markdown",
      "source": [
        "### 5.1 Preparing our data to see if model can fit a straight line\n",
        "\n",
        "One way to troubleshoot a larger problem is to test out a smaller problem"
      ],
      "metadata": {
        "id": "9Ykjivda4uya"
      }
    },
    {
      "cell_type": "code",
      "source": [
        "# Create some data (same as notebook 01)\n",
        "weight = 0.7\n",
        "bias = 0.3\n",
        "\n",
        "start = 0\n",
        "end = 1\n",
        "step = 0.01\n",
        "\n",
        "# Create data\n",
        "X_regression = torch.arange(start=start, end=end, step=step).unsqueeze(dim=1)\n",
        "y_regression = weight * X_regression + bias #linear regression formula \n",
        "\n",
        "# Check data\n",
        "print(len(X_regression))\n",
        "X_regression[:5], y_regression[:5]"
      ],
      "metadata": {
        "colab": {
          "base_uri": "https://localhost:8080/"
        },
        "id": "Ng6kPoXk42c-",
        "outputId": "9a732451-20f5-4bcc-cbec-ae9212d8310a"
      },
      "execution_count": 60,
      "outputs": [
        {
          "output_type": "stream",
          "name": "stdout",
          "text": [
            "100\n"
          ]
        },
        {
          "output_type": "execute_result",
          "data": {
            "text/plain": [
              "(tensor([[0.0000],\n",
              "         [0.0100],\n",
              "         [0.0200],\n",
              "         [0.0300],\n",
              "         [0.0400]]), tensor([[0.3000],\n",
              "         [0.3070],\n",
              "         [0.3140],\n",
              "         [0.3210],\n",
              "         [0.3280]]))"
            ]
          },
          "metadata": {},
          "execution_count": 60
        }
      ]
    },
    {
      "cell_type": "code",
      "source": [
        "# Create train / test splits\n",
        "\n",
        "train_split = int(0.8 * len(X_regression))\n",
        "\n",
        "X_train_regression, y_train_regression = X_regression[:train_split], y_regression[:train_split]\n",
        "X_test_regression, y_test_regression = X_regression[train_split:], y_regression[train_split:]\n",
        "\n",
        "\n",
        "len(X_train_regression), len(X_test_regression), len(y_train_regression), len(y_test_regression)"
      ],
      "metadata": {
        "colab": {
          "base_uri": "https://localhost:8080/"
        },
        "id": "VPeIfKlr42WL",
        "outputId": "bfb2418d-667d-4f11-ffff-726f239de2c8"
      },
      "execution_count": 61,
      "outputs": [
        {
          "output_type": "execute_result",
          "data": {
            "text/plain": [
              "(80, 20, 80, 20)"
            ]
          },
          "metadata": {},
          "execution_count": 61
        }
      ]
    },
    {
      "cell_type": "code",
      "source": [
        "plot_predictions(train_data = X_train_regression,\n",
        "                 train_labels = y_train_regression,\n",
        "                 test_data = X_test_regression,\n",
        "                 test_labels = y_test_regression, \n",
        "                 predictions=None);"
      ],
      "metadata": {
        "colab": {
          "base_uri": "https://localhost:8080/",
          "height": 428
        },
        "id": "3NysFK7e6PXD",
        "outputId": "8ed3d515-44db-4e35-8884-00a76dd4d68d"
      },
      "execution_count": 62,
      "outputs": [
        {
          "output_type": "display_data",
          "data": {
            "text/plain": [
              "<Figure size 720x504 with 1 Axes>"
            ],
            "image/png": "[encoded data removed]"
          },
          "metadata": {
            "needs_background": "light"
          }
        }
      ]
    },
    {
      "cell_type": "markdown",
      "source": [
        "### 5.2 Adjust `model_1` to fit a straight line"
      ],
      "metadata": {
        "id": "EafZy5QO78Wq"
      }
    },
    {
      "cell_type": "code",
      "source": [
        "model_1.state_dict()"
      ],
      "metadata": {
        "colab": {
          "base_uri": "https://localhost:8080/"
        },
        "id": "rQmp195q7twz",
        "outputId": "161112e7-76f1-4495-97b9-6b4fef0f5729"
      },
      "execution_count": 51,
      "outputs": [
        {
          "output_type": "execute_result",
          "data": {
            "text/plain": [
              "OrderedDict([('layer_1.weight', tensor([[ 0.5399,  0.5868],\n",
              "                      [-0.1618,  0.6521],\n",
              "                      [-0.1579,  0.1408],\n",
              "                      [-0.3461,  0.4142],\n",
              "                      [ 0.6176, -0.5224],\n",
              "                      [ 0.6211,  0.1368],\n",
              "                      [ 0.5210,  0.0951],\n",
              "                      [ 0.3388, -0.1010],\n",
              "                      [ 0.5338,  0.0974],\n",
              "                      [-0.3410,  0.1731]])),\n",
              "             ('layer_1.bias',\n",
              "              tensor([-0.3256, -0.0830, -0.2871,  0.4692, -0.5580, -0.3260, -0.1995, -0.4250,\n",
              "                       0.0671, -0.6982])),\n",
              "             ('layer_2.weight',\n",
              "              tensor([[ 0.2973, -0.2652,  0.2434,  0.0517, -0.0992,  0.2043,  0.0567,  0.2590,\n",
              "                        0.0422, -0.1024],\n",
              "                      [ 0.0644, -0.0915,  0.1344,  0.2843,  0.1761, -0.1541,  0.1695,  0.0502,\n",
              "                        0.1472, -0.1882],\n",
              "                      [-0.2934, -0.1167, -0.2438,  0.2577,  0.0973,  0.1461,  0.1125,  0.0005,\n",
              "                        0.2603, -0.2291],\n",
              "                      [ 0.0007, -0.2212,  0.0987, -0.1071,  0.0908, -0.0807,  0.2501, -0.1933,\n",
              "                       -0.2011, -0.1843],\n",
              "                      [ 0.2797,  0.1040,  0.3046, -0.2606, -0.3151, -0.2510, -0.2157,  0.1266,\n",
              "                        0.1102,  0.2638],\n",
              "                      [-0.1587, -0.2144,  0.1675, -0.1283,  0.1935, -0.0715,  0.1838, -0.2442,\n",
              "                       -0.1566,  0.0954],\n",
              "                      [ 0.0801, -0.0769,  0.1877,  0.2137, -0.2251, -0.1587,  0.2979, -0.1027,\n",
              "                       -0.1035, -0.3089],\n",
              "                      [-0.1622,  0.0841, -0.0429, -0.2315,  0.0137, -0.2014, -0.2562, -0.1682,\n",
              "                       -0.2644, -0.2055],\n",
              "                      [ 0.3401,  0.0665,  0.0959, -0.2971, -0.2001, -0.0868,  0.0647, -0.2709,\n",
              "                       -0.1206, -0.1947],\n",
              "                      [-0.0205, -0.1237, -0.0206, -0.2123, -0.2238, -0.2009, -0.1218, -0.2561,\n",
              "                        0.2513, -0.0580]])),\n",
              "             ('layer_2.bias',\n",
              "              tensor([ 0.2719,  0.0991, -0.2682,  0.2193, -0.0869, -0.1214, -0.2628, -0.3150,\n",
              "                       0.0899, -0.0686])),\n",
              "             ('layer_3.weight',\n",
              "              tensor([[ 0.1618, -0.2408,  0.2413, -0.2370, -0.0592,  0.0418,  0.1616,  0.2040,\n",
              "                        0.2994, -0.2678]])),\n",
              "             ('layer_3.bias', tensor([0.0777]))])"
            ]
          },
          "metadata": {},
          "execution_count": 51
        }
      ]
    },
    {
      "cell_type": "code",
      "source": [
        "model_2 = nn.Sequential(\n",
        "    nn.Linear(in_features=1, out_features=10),\n",
        "    nn.Linear(in_features=10, out_features=10),\n",
        "    nn.Linear(in_features=10, out_features=1)\n",
        ").to(device)\n",
        "\n",
        "model_2"
      ],
      "metadata": {
        "colab": {
          "base_uri": "https://localhost:8080/"
        },
        "id": "YaIwzFHP8CoD",
        "outputId": "3f6c80be-16a6-497c-d0e8-20d9ce344333"
      },
      "execution_count": 68,
      "outputs": [
        {
          "output_type": "execute_result",
          "data": {
            "text/plain": [
              "Sequential(\n",
              "  (0): Linear(in_features=1, out_features=10, bias=True)\n",
              "  (1): Linear(in_features=10, out_features=10, bias=True)\n",
              "  (2): Linear(in_features=10, out_features=1, bias=True)\n",
              ")"
            ]
          },
          "metadata": {},
          "execution_count": 68
        }
      ]
    },
    {
      "cell_type": "code",
      "source": [
        "# Loss and optimizer\n",
        "loss_fn = nn.L1Loss()\n",
        "\n",
        "optimizer = torch.optim.SGD(params = model_2.parameters(), \n",
        "                            lr=0.01)"
      ],
      "metadata": {
        "id": "4ws8hfac8vc0"
      },
      "execution_count": 73,
      "outputs": []
    },
    {
      "cell_type": "code",
      "source": [
        "# Train model\n",
        "torch.manual_seed(42)\n",
        "torch.cuda.manual_seed(42)\n",
        "\n",
        "epochs = 1000\n",
        "\n",
        "# Put data to target device\n",
        "X_train_regression, y_train_regression = X_train_regression.to(device), y_train_regression.to(device)\n",
        "X_test_regression, y_test_regression = X_test_regression.to(device), y_test_regression.to(device)\n",
        "\n",
        "for epoch in range(epochs):\n",
        "\n",
        "  ### TRAIN LOOP\n",
        "  # Foward pass\n",
        "  y_pred = model_2(X_train_regression)\n",
        "\n",
        "  # Calculate loss\n",
        "  loss = loss_fn(y_pred, y_train_regression)\n",
        "\n",
        "  # Set gradient to zero\n",
        "  optimizer.zero_grad()\n",
        "\n",
        "  # Backpropagation\n",
        "  loss.backward()\n",
        "\n",
        "  # Step optimizer\n",
        "  optimizer.step()\n",
        "\n",
        "  ### TEST LOOP\n",
        "  model_2.eval()\n",
        "\n",
        "  with torch.inference_mode():\n",
        "\n",
        "    # Foward pass\n",
        "    test_pred = model_2(X_test_regression)\n",
        "\n",
        "    # Calculate loss\n",
        "    test_loss = loss_fn(test_pred, y_test)\n",
        "\n",
        "  # Print out model status every 10 epochs\n",
        "  if epoch % 100 == 0:\n",
        "    print(f\"Epoch: {epoch} | Loss: {loss:.5f} | Test loss: {test_loss:.5f}\")"
      ],
      "metadata": {
        "colab": {
          "base_uri": "https://localhost:8080/"
        },
        "id": "ZEIPfUSF88tR",
        "outputId": "795d3a6d-e692-4a60-d0e5-449d482406bd"
      },
      "execution_count": 74,
      "outputs": [
        {
          "output_type": "stream",
          "name": "stdout",
          "text": [
            "Epoch: 0 | Loss: 0.06466 | Test loss: 0.12597\n",
            "Epoch: 100 | Loss: 0.00743 | Test loss: 0.00093\n",
            "Epoch: 200 | Loss: 0.00621 | Test loss: 0.00123\n",
            "Epoch: 300 | Loss: 0.00619 | Test loss: 0.00116\n",
            "Epoch: 400 | Loss: 0.00617 | Test loss: 0.00094\n",
            "Epoch: 500 | Loss: 0.00646 | Test loss: 0.00138\n",
            "Epoch: 600 | Loss: 0.00614 | Test loss: 0.00110\n",
            "Epoch: 700 | Loss: 0.00612 | Test loss: 0.00103\n",
            "Epoch: 800 | Loss: 0.00641 | Test loss: 0.00149\n",
            "Epoch: 900 | Loss: 0.00639 | Test loss: 0.00118\n"
          ]
        }
      ]
    },
    {
      "cell_type": "code",
      "source": [
        "# Turn on eval mode\n",
        "model_2.eval()\n",
        "\n",
        "# Make predictions\n",
        "with torch.inference_mode():\n",
        "  y_preds = model_2(X_test_regression)\n",
        "\n",
        "# Plot predictions\n",
        "plot_predictions(train_data = X_train_regression.cpu(),\n",
        "                 train_labels = y_train_regression.cpu(),\n",
        "                 test_data = X_test_regression.cpu(),\n",
        "                 test_labels = y_test_regression.cpu(),\n",
        "                 predictions=y_preds.cpu());"
      ],
      "metadata": {
        "colab": {
          "base_uri": "https://localhost:8080/",
          "height": 428
        },
        "id": "-ci8r2q0A59K",
        "outputId": "2e45a8d3-7913-4dc1-ce84-b8df7b7d4edf"
      },
      "execution_count": 83,
      "outputs": [
        {
          "output_type": "display_data",
          "data": {
            "text/plain": [
              "<Figure size 720x504 with 1 Axes>"
            ],
            "image/png": "[encoded data removed]"
          },
          "metadata": {
            "needs_background": "light"
          }
        }
      ]
    },
    {
      "cell_type": "markdown",
      "source": [
        "## 6. The missing piece: Non-linearity\n",
        "\n",
        "What patterns could you draw if you were given an infinite amount of straight and non-straight lines? \n",
        "\n",
        "Or in ML terms, an infinite (but really finite) amount of linear and non-linear functions?"
      ],
      "metadata": {
        "id": "h2uZUx2kB9W5"
      }
    },
    {
      "cell_type": "markdown",
      "source": [
        "### 6.1 Recreating non-linear data (red/blue circles)"
      ],
      "metadata": {
        "id": "L87aoAcNE1O8"
      }
    },
    {
      "cell_type": "code",
      "source": [
        "# make and plot data\n",
        "import matplotlib.pyplot as plt\n",
        "from sklearn.datasets import make_circles\n",
        "\n",
        "n_samples = 1000\n",
        "\n",
        "X, y = make_circles(n_samples,\n",
        "                    noise=0.03,\n",
        "                    random_state=42)\n",
        "\n",
        "plt.scatter(X[:,0], X[:,1], c=y, cmap=plt.cm.RdYlBu);"
      ],
      "metadata": {
        "colab": {
          "base_uri": "https://localhost:8080/",
          "height": 265
        },
        "id": "b9dPnpwGE10J",
        "outputId": "7e1da74b-d636-4f1b-86e5-22c4d49384e6"
      },
      "execution_count": 127,
      "outputs": [
        {
          "output_type": "display_data",
          "data": {
            "text/plain": [
              "<Figure size 432x288 with 1 Axes>"
            ],
            "image/png": "[encoded data removed]"
          },
          "metadata": {
            "needs_background": "light"
          }
        }
      ]
    },
    {
      "cell_type": "code",
      "source": [
        "# Convert data to tensors and split into train and test splits\n",
        "import torch \n",
        "from sklearn.model_selection import train_test_split\n",
        "\n",
        "# Turn data into tensors\n",
        "X = torch.from_numpy(X).type(torch.float)\n",
        "y = torch.from_numpy(y).type(torch.float)\n",
        "\n",
        "# Split data\n",
        "X_train, X_test, y_train, y_test = train_test_split(X, y, \n",
        "                                                    test_size = 0.2,\n",
        "                                                    random_state=42)\n",
        "X_train[:5], y_train[:5]"
      ],
      "metadata": {
        "colab": {
          "base_uri": "https://localhost:8080/"
        },
        "id": "WaE1xpxUE1xY",
        "outputId": "78052813-fc71-4279-87da-de8269babd62"
      },
      "execution_count": 128,
      "outputs": [
        {
          "output_type": "execute_result",
          "data": {
            "text/plain": [
              "(tensor([[ 0.6579, -0.4651],\n",
              "         [ 0.6319, -0.7347],\n",
              "         [-1.0086, -0.1240],\n",
              "         [-0.9666, -0.2256],\n",
              "         [-0.1666,  0.7994]]), tensor([1., 0., 0., 0., 1.]))"
            ]
          },
          "metadata": {},
          "execution_count": 128
        }
      ]
    },
    {
      "cell_type": "markdown",
      "source": [
        "### 6.2 Building a model with non-linearity"
      ],
      "metadata": {
        "id": "l0-Ieg8UGvyM"
      }
    },
    {
      "cell_type": "code",
      "source": [
        "# Build a model with a non-linear activation function\n",
        "from torch import nn\n",
        "\n",
        "class CircleModelV2(nn.Module):\n",
        "  def __init__(self):\n",
        "    super().__init__()\n",
        "\n",
        "    self.layer_1 = nn.Linear(in_features=2, out_features=10)\n",
        "    self.layer_2 = nn.Linear(in_features=10, out_features=10)\n",
        "    self.layer_3 = nn.Linear(in_features=10, out_features=1)\n",
        "    self.relu = nn.ReLU() #non-linear function: all neg inputs = 0\n",
        "\n",
        "  def forward(self, x):\n",
        "    # Where should we put out non-linear activation functions?\n",
        "    return self.layer_3(self.relu(self.layer_2(self.relu(self.layer_1(x)))))\n",
        "\n",
        "model_3 = CircleModelV2().to(device)\n",
        "model_3"
      ],
      "metadata": {
        "colab": {
          "base_uri": "https://localhost:8080/"
        },
        "id": "YogeNseqHi2C",
        "outputId": "c9e50cd2-b2af-4676-b98c-d6fae6b53c6b"
      },
      "execution_count": 129,
      "outputs": [
        {
          "output_type": "execute_result",
          "data": {
            "text/plain": [
              "CircleModelV2(\n",
              "  (layer_1): Linear(in_features=2, out_features=10, bias=True)\n",
              "  (layer_2): Linear(in_features=10, out_features=10, bias=True)\n",
              "  (layer_3): Linear(in_features=10, out_features=1, bias=True)\n",
              "  (relu): ReLU()\n",
              ")"
            ]
          },
          "metadata": {},
          "execution_count": 129
        }
      ]
    },
    {
      "cell_type": "code",
      "source": [
        "# Setup loss function and optimizer\n",
        "loss = nn.BCEWithLogitsLoss()\n",
        "\n",
        "optimizer = torch.optim.SGD(params = model_3.parameters(),\n",
        "                         lr = 0.1)"
      ],
      "metadata": {
        "id": "c1EuBE1HIyTm"
      },
      "execution_count": 130,
      "outputs": []
    },
    {
      "cell_type": "code",
      "source": [
        "# Create training and testing loops\n",
        "\n",
        "torch.manual_seed(42)\n",
        "torch.cuda.manual_seed(42)\n",
        "\n",
        "# Put train/test data on device\n",
        "X_train, y_train = X_train.to(device), y_train.to(device)\n",
        "X_test, y_test = X_test.to(device), y_test.to(device)\n",
        "\n",
        "epochs = 1000\n",
        "\n",
        "for epoch in range(epochs):\n",
        "### TRAINING LOOP\n",
        "  y_logits = model_3(X_train).squeeze()\n",
        "  y_pred = torch.round(torch.sigmoid(y_logits))\n",
        "\n",
        "  loss = loss_fn(y_logits, y_train)\n",
        "  acc = accuracy_fn(y_train, y_pred)\n",
        "\n",
        "  optimizer.zero_grad()\n",
        "  loss.backward()\n",
        "  optimizer.step()\n",
        "\n",
        "  ### TEST LOOP\n",
        "  model_3.eval()\n",
        "  with torch.inference_mode():\n",
        "    test_logits = model_3(X_test).squeeze()\n",
        "    test_pred = torch.round(torch.sigmoid(test_logits))\n",
        "\n",
        "    test_loss = loss_fn(test_logits, y_test)\n",
        "    test_acc = accuracy_fn(y_test, test_pred)  \n",
        "\n",
        "  if epoch % 100 == 0:\n",
        "    print(f\"Epoch: {epoch} | Loss: {loss:.5f}, Accuracy: {acc:.2f}% | Test loss: {test_loss:.5f}, Test acc: {test_acc:.2f}%\")\n"
      ],
      "metadata": {
        "colab": {
          "base_uri": "https://localhost:8080/"
        },
        "id": "fU7943nhJq44",
        "outputId": "8b30c5cd-c62f-462d-f341-7783a5a088b8"
      },
      "execution_count": 131,
      "outputs": [
        {
          "output_type": "stream",
          "name": "stdout",
          "text": [
            "Epoch: 0 | Loss: 0.49944, Accuracy: 50.00% | Test loss: 0.49982, Test acc: 50.00%\n",
            "Epoch: 100 | Loss: 0.49324, Accuracy: 50.38% | Test loss: 0.49250, Test acc: 50.00%\n",
            "Epoch: 200 | Loss: 0.48305, Accuracy: 50.62% | Test loss: 0.48082, Test acc: 50.00%\n",
            "Epoch: 300 | Loss: 0.45787, Accuracy: 51.00% | Test loss: 0.45079, Test acc: 51.00%\n",
            "Epoch: 400 | Loss: 0.39007, Accuracy: 52.25% | Test loss: 0.37911, Test acc: 52.00%\n",
            "Epoch: 500 | Loss: 0.27885, Accuracy: 59.00% | Test loss: 0.27371, Test acc: 50.00%\n",
            "Epoch: 600 | Loss: 0.20875, Accuracy: 75.12% | Test loss: 0.31739, Test acc: 50.00%\n",
            "Epoch: 700 | Loss: 0.15074, Accuracy: 69.62% | Test loss: 0.21243, Test acc: 52.00%\n",
            "Epoch: 800 | Loss: 0.11643, Accuracy: 64.62% | Test loss: 0.15972, Test acc: 59.00%\n",
            "Epoch: 900 | Loss: 0.17093, Accuracy: 84.50% | Test loss: 0.28401, Test acc: 50.00%\n"
          ]
        }
      ]
    },
    {
      "cell_type": "code",
      "source": [],
      "metadata": {
        "id": "aCNPMHACLycE"
      },
      "execution_count": 131,
      "outputs": []
    }
  ]
}